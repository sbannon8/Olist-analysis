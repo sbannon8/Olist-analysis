{
 "cells": [
  {
   "cell_type": "markdown",
   "id": "719f75a0-2029-456a-9db9-681f7076bbd0",
   "metadata": {},
   "source": [
    "## Import Libraries"
   ]
  },
  {
   "cell_type": "code",
   "execution_count": 3,
   "id": "2e6d92fa-0040-4174-bdcf-aa7646322a3e",
   "metadata": {},
   "outputs": [],
   "source": [
    "import pandas as pd\n",
    "import numpy as np\n",
    "import os"
   ]
  },
  {
   "cell_type": "markdown",
   "id": "aa64a567-436e-46ed-be4a-79b5947361f3",
   "metadata": {},
   "source": [
    "## Import Data"
   ]
  },
  {
   "cell_type": "code",
   "execution_count": 10,
   "id": "ffd52139-5509-4bd0-93e0-1ff44b97662f",
   "metadata": {},
   "outputs": [],
   "source": [
    "#path to main folder\n",
    "path = r'C:\\Users\\steve\\Documents\\Olist Marketplace Analysis'\n",
    "\n",
    "# import customers file\n",
    "cust_df = pd.read_csv(os.path.join(path, '02 Data', 'Original Data', 'olist_customers_dataset.csv'), index_col = False)"
   ]
  },
  {
   "cell_type": "markdown",
   "id": "9fdc58c7-b241-45a5-ab9b-fdde000bec8e",
   "metadata": {},
   "source": [
    "## Analysis"
   ]
  },
  {
   "cell_type": "markdown",
   "id": "62c2721b-31c3-4bcd-b253-9f1db5a0c3fb",
   "metadata": {},
   "source": [
    "#### 01. Content + Shape"
   ]
  },
  {
   "cell_type": "code",
   "execution_count": 15,
   "id": "cad4e6e3-1465-40ef-9e62-7f2be027a519",
   "metadata": {},
   "outputs": [
    {
     "data": {
      "text/html": [
       "<div>\n",
       "<style scoped>\n",
       "    .dataframe tbody tr th:only-of-type {\n",
       "        vertical-align: middle;\n",
       "    }\n",
       "\n",
       "    .dataframe tbody tr th {\n",
       "        vertical-align: top;\n",
       "    }\n",
       "\n",
       "    .dataframe thead th {\n",
       "        text-align: right;\n",
       "    }\n",
       "</style>\n",
       "<table border=\"1\" class=\"dataframe\">\n",
       "  <thead>\n",
       "    <tr style=\"text-align: right;\">\n",
       "      <th></th>\n",
       "      <th>customer_id</th>\n",
       "      <th>customer_unique_id</th>\n",
       "      <th>customer_zip_code_prefix</th>\n",
       "      <th>customer_city</th>\n",
       "      <th>customer_state</th>\n",
       "    </tr>\n",
       "  </thead>\n",
       "  <tbody>\n",
       "    <tr>\n",
       "      <th>0</th>\n",
       "      <td>06b8999e2fba1a1fbc88172c00ba8bc7</td>\n",
       "      <td>861eff4711a542e4b93843c6dd7febb0</td>\n",
       "      <td>14409</td>\n",
       "      <td>franca</td>\n",
       "      <td>SP</td>\n",
       "    </tr>\n",
       "    <tr>\n",
       "      <th>1</th>\n",
       "      <td>18955e83d337fd6b2def6b18a428ac77</td>\n",
       "      <td>290c77bc529b7ac935b93aa66c333dc3</td>\n",
       "      <td>9790</td>\n",
       "      <td>sao bernardo do campo</td>\n",
       "      <td>SP</td>\n",
       "    </tr>\n",
       "    <tr>\n",
       "      <th>2</th>\n",
       "      <td>4e7b3e00288586ebd08712fdd0374a03</td>\n",
       "      <td>060e732b5b29e8181a18229c7b0b2b5e</td>\n",
       "      <td>1151</td>\n",
       "      <td>sao paulo</td>\n",
       "      <td>SP</td>\n",
       "    </tr>\n",
       "    <tr>\n",
       "      <th>3</th>\n",
       "      <td>b2b6027bc5c5109e529d4dc6358b12c3</td>\n",
       "      <td>259dac757896d24d7702b9acbbff3f3c</td>\n",
       "      <td>8775</td>\n",
       "      <td>mogi das cruzes</td>\n",
       "      <td>SP</td>\n",
       "    </tr>\n",
       "    <tr>\n",
       "      <th>4</th>\n",
       "      <td>4f2d8ab171c80ec8364f7c12e35b23ad</td>\n",
       "      <td>345ecd01c38d18a9036ed96c73b8d066</td>\n",
       "      <td>13056</td>\n",
       "      <td>campinas</td>\n",
       "      <td>SP</td>\n",
       "    </tr>\n",
       "  </tbody>\n",
       "</table>\n",
       "</div>"
      ],
      "text/plain": [
       "                        customer_id                customer_unique_id  \\\n",
       "0  06b8999e2fba1a1fbc88172c00ba8bc7  861eff4711a542e4b93843c6dd7febb0   \n",
       "1  18955e83d337fd6b2def6b18a428ac77  290c77bc529b7ac935b93aa66c333dc3   \n",
       "2  4e7b3e00288586ebd08712fdd0374a03  060e732b5b29e8181a18229c7b0b2b5e   \n",
       "3  b2b6027bc5c5109e529d4dc6358b12c3  259dac757896d24d7702b9acbbff3f3c   \n",
       "4  4f2d8ab171c80ec8364f7c12e35b23ad  345ecd01c38d18a9036ed96c73b8d066   \n",
       "\n",
       "   customer_zip_code_prefix          customer_city customer_state  \n",
       "0                     14409                 franca             SP  \n",
       "1                      9790  sao bernardo do campo             SP  \n",
       "2                      1151              sao paulo             SP  \n",
       "3                      8775        mogi das cruzes             SP  \n",
       "4                     13056               campinas             SP  "
      ]
     },
     "execution_count": 15,
     "metadata": {},
     "output_type": "execute_result"
    }
   ],
   "source": [
    "cust_df.head()"
   ]
  },
  {
   "cell_type": "code",
   "execution_count": 17,
   "id": "fc996e62-698f-4d7b-87fa-aa7a42e2a25f",
   "metadata": {},
   "outputs": [
    {
     "data": {
      "text/html": [
       "<div>\n",
       "<style scoped>\n",
       "    .dataframe tbody tr th:only-of-type {\n",
       "        vertical-align: middle;\n",
       "    }\n",
       "\n",
       "    .dataframe tbody tr th {\n",
       "        vertical-align: top;\n",
       "    }\n",
       "\n",
       "    .dataframe thead th {\n",
       "        text-align: right;\n",
       "    }\n",
       "</style>\n",
       "<table border=\"1\" class=\"dataframe\">\n",
       "  <thead>\n",
       "    <tr style=\"text-align: right;\">\n",
       "      <th></th>\n",
       "      <th>customer_id</th>\n",
       "      <th>customer_unique_id</th>\n",
       "      <th>customer_zip_code_prefix</th>\n",
       "      <th>customer_city</th>\n",
       "      <th>customer_state</th>\n",
       "    </tr>\n",
       "  </thead>\n",
       "  <tbody>\n",
       "    <tr>\n",
       "      <th>99436</th>\n",
       "      <td>17ddf5dd5d51696bb3d7c6291687be6f</td>\n",
       "      <td>1a29b476fee25c95fbafc67c5ac95cf8</td>\n",
       "      <td>3937</td>\n",
       "      <td>sao paulo</td>\n",
       "      <td>SP</td>\n",
       "    </tr>\n",
       "    <tr>\n",
       "      <th>99437</th>\n",
       "      <td>e7b71a9017aa05c9a7fd292d714858e8</td>\n",
       "      <td>d52a67c98be1cf6a5c84435bd38d095d</td>\n",
       "      <td>6764</td>\n",
       "      <td>taboao da serra</td>\n",
       "      <td>SP</td>\n",
       "    </tr>\n",
       "    <tr>\n",
       "      <th>99438</th>\n",
       "      <td>5e28dfe12db7fb50a4b2f691faecea5e</td>\n",
       "      <td>e9f50caf99f032f0bf3c55141f019d99</td>\n",
       "      <td>60115</td>\n",
       "      <td>fortaleza</td>\n",
       "      <td>CE</td>\n",
       "    </tr>\n",
       "    <tr>\n",
       "      <th>99439</th>\n",
       "      <td>56b18e2166679b8a959d72dd06da27f9</td>\n",
       "      <td>73c2643a0a458b49f58cea58833b192e</td>\n",
       "      <td>92120</td>\n",
       "      <td>canoas</td>\n",
       "      <td>RS</td>\n",
       "    </tr>\n",
       "    <tr>\n",
       "      <th>99440</th>\n",
       "      <td>274fa6071e5e17fe303b9748641082c8</td>\n",
       "      <td>84732c5050c01db9b23e19ba39899398</td>\n",
       "      <td>6703</td>\n",
       "      <td>cotia</td>\n",
       "      <td>SP</td>\n",
       "    </tr>\n",
       "  </tbody>\n",
       "</table>\n",
       "</div>"
      ],
      "text/plain": [
       "                            customer_id                customer_unique_id  \\\n",
       "99436  17ddf5dd5d51696bb3d7c6291687be6f  1a29b476fee25c95fbafc67c5ac95cf8   \n",
       "99437  e7b71a9017aa05c9a7fd292d714858e8  d52a67c98be1cf6a5c84435bd38d095d   \n",
       "99438  5e28dfe12db7fb50a4b2f691faecea5e  e9f50caf99f032f0bf3c55141f019d99   \n",
       "99439  56b18e2166679b8a959d72dd06da27f9  73c2643a0a458b49f58cea58833b192e   \n",
       "99440  274fa6071e5e17fe303b9748641082c8  84732c5050c01db9b23e19ba39899398   \n",
       "\n",
       "       customer_zip_code_prefix    customer_city customer_state  \n",
       "99436                      3937        sao paulo             SP  \n",
       "99437                      6764  taboao da serra             SP  \n",
       "99438                     60115        fortaleza             CE  \n",
       "99439                     92120           canoas             RS  \n",
       "99440                      6703            cotia             SP  "
      ]
     },
     "execution_count": 17,
     "metadata": {},
     "output_type": "execute_result"
    }
   ],
   "source": [
    "cust_df.tail()"
   ]
  },
  {
   "cell_type": "code",
   "execution_count": 19,
   "id": "ed08d7b8-b229-48ce-9dd5-ed99f7853de9",
   "metadata": {},
   "outputs": [
    {
     "data": {
      "text/plain": [
       "(99441, 5)"
      ]
     },
     "execution_count": 19,
     "metadata": {},
     "output_type": "execute_result"
    }
   ],
   "source": [
    "cust_df.shape"
   ]
  },
  {
   "cell_type": "code",
   "execution_count": 21,
   "id": "067aba08-52be-43b0-a3da-73fd83c6e22c",
   "metadata": {},
   "outputs": [
    {
     "name": "stdout",
     "output_type": "stream",
     "text": [
      "<class 'pandas.core.frame.DataFrame'>\n",
      "RangeIndex: 99441 entries, 0 to 99440\n",
      "Data columns (total 5 columns):\n",
      " #   Column                    Non-Null Count  Dtype \n",
      "---  ------                    --------------  ----- \n",
      " 0   customer_id               99441 non-null  object\n",
      " 1   customer_unique_id        99441 non-null  object\n",
      " 2   customer_zip_code_prefix  99441 non-null  int64 \n",
      " 3   customer_city             99441 non-null  object\n",
      " 4   customer_state            99441 non-null  object\n",
      "dtypes: int64(1), object(4)\n",
      "memory usage: 3.8+ MB\n"
     ]
    }
   ],
   "source": [
    "cust_df.info()"
   ]
  },
  {
   "cell_type": "code",
   "execution_count": 47,
   "id": "66566327-ac20-490f-a7f9-dd65967ed002",
   "metadata": {},
   "outputs": [
    {
     "data": {
      "text/html": [
       "<div>\n",
       "<style scoped>\n",
       "    .dataframe tbody tr th:only-of-type {\n",
       "        vertical-align: middle;\n",
       "    }\n",
       "\n",
       "    .dataframe tbody tr th {\n",
       "        vertical-align: top;\n",
       "    }\n",
       "\n",
       "    .dataframe thead th {\n",
       "        text-align: right;\n",
       "    }\n",
       "</style>\n",
       "<table border=\"1\" class=\"dataframe\">\n",
       "  <thead>\n",
       "    <tr style=\"text-align: right;\">\n",
       "      <th></th>\n",
       "      <th>customer_zip_code_prefix</th>\n",
       "    </tr>\n",
       "  </thead>\n",
       "  <tbody>\n",
       "    <tr>\n",
       "      <th>count</th>\n",
       "      <td>99441.000000</td>\n",
       "    </tr>\n",
       "    <tr>\n",
       "      <th>mean</th>\n",
       "      <td>35137.474583</td>\n",
       "    </tr>\n",
       "    <tr>\n",
       "      <th>std</th>\n",
       "      <td>29797.938996</td>\n",
       "    </tr>\n",
       "    <tr>\n",
       "      <th>min</th>\n",
       "      <td>1003.000000</td>\n",
       "    </tr>\n",
       "    <tr>\n",
       "      <th>25%</th>\n",
       "      <td>11347.000000</td>\n",
       "    </tr>\n",
       "    <tr>\n",
       "      <th>50%</th>\n",
       "      <td>24416.000000</td>\n",
       "    </tr>\n",
       "    <tr>\n",
       "      <th>75%</th>\n",
       "      <td>58900.000000</td>\n",
       "    </tr>\n",
       "    <tr>\n",
       "      <th>max</th>\n",
       "      <td>99990.000000</td>\n",
       "    </tr>\n",
       "  </tbody>\n",
       "</table>\n",
       "</div>"
      ],
      "text/plain": [
       "       customer_zip_code_prefix\n",
       "count              99441.000000\n",
       "mean               35137.474583\n",
       "std                29797.938996\n",
       "min                 1003.000000\n",
       "25%                11347.000000\n",
       "50%                24416.000000\n",
       "75%                58900.000000\n",
       "max                99990.000000"
      ]
     },
     "execution_count": 47,
     "metadata": {},
     "output_type": "execute_result"
    }
   ],
   "source": [
    "cust_df.describe()"
   ]
  },
  {
   "cell_type": "markdown",
   "id": "40b1eb0c-89c8-495f-8c11-11ce16064c07",
   "metadata": {},
   "source": [
    "#### 02. Value Counts"
   ]
  },
  {
   "cell_type": "markdown",
   "id": "5d99f082-0e81-4f87-83a6-fb1d9c796a42",
   "metadata": {},
   "source": [
    "Zipcode"
   ]
  },
  {
   "cell_type": "code",
   "execution_count": 30,
   "id": "8ca9d67e-8c77-4c70-b69c-38ec496037a8",
   "metadata": {},
   "outputs": [
    {
     "data": {
      "text/plain": [
       "customer_zip_code_prefix\n",
       "22790    142\n",
       "24220    124\n",
       "22793    121\n",
       "24230    117\n",
       "22775    110\n",
       "        ... \n",
       "35698      1\n",
       "99370      1\n",
       "64808      1\n",
       "60876      1\n",
       "99043      1\n",
       "Name: count, Length: 14994, dtype: int64"
      ]
     },
     "execution_count": 30,
     "metadata": {},
     "output_type": "execute_result"
    }
   ],
   "source": [
    "# get counts of zipcodes\n",
    "cust_df['customer_zip_code_prefix'].value_counts(dropna = False)"
   ]
  },
  {
   "cell_type": "markdown",
   "id": "0b48a9c2-4435-4776-a755-04598f23362e",
   "metadata": {},
   "source": [
    "**Unique Zipcodes** = 14,994"
   ]
  },
  {
   "cell_type": "markdown",
   "id": "dff6ad18-79e3-4547-937e-c1363e295665",
   "metadata": {},
   "source": [
    "City"
   ]
  },
  {
   "cell_type": "code",
   "execution_count": 36,
   "id": "b73c3a6e-e1ed-4dd6-a35e-58f5aa02778f",
   "metadata": {},
   "outputs": [
    {
     "data": {
      "text/plain": [
       "customer_city\n",
       "sao paulo            15540\n",
       "rio de janeiro        6882\n",
       "belo horizonte        2773\n",
       "brasilia              2131\n",
       "curitiba              1521\n",
       "                     ...  \n",
       "bequimao                 1\n",
       "andarai                  1\n",
       "vargem grande            1\n",
       "curvelandia              1\n",
       "eugenio de castro        1\n",
       "Name: count, Length: 4119, dtype: int64"
      ]
     },
     "execution_count": 36,
     "metadata": {},
     "output_type": "execute_result"
    }
   ],
   "source": [
    "# get counts of cities\n",
    "cust_df['customer_city'].value_counts(dropna = False)"
   ]
  },
  {
   "cell_type": "markdown",
   "id": "6edc94a6-c2ca-44dd-9a43-59f5b8aa2fcc",
   "metadata": {},
   "source": [
    "**Unique Cities** = 4,119"
   ]
  },
  {
   "cell_type": "markdown",
   "id": "0981fcc5-869a-40e6-a83a-07f830792b80",
   "metadata": {},
   "source": [
    "State"
   ]
  },
  {
   "cell_type": "code",
   "execution_count": 39,
   "id": "24d11c4c-007f-48ab-9935-b365cec664a1",
   "metadata": {},
   "outputs": [
    {
     "data": {
      "text/plain": [
       "customer_state\n",
       "SP    41746\n",
       "RJ    12852\n",
       "MG    11635\n",
       "RS     5466\n",
       "PR     5045\n",
       "SC     3637\n",
       "BA     3380\n",
       "DF     2140\n",
       "ES     2033\n",
       "GO     2020\n",
       "PE     1652\n",
       "CE     1336\n",
       "PA      975\n",
       "MT      907\n",
       "MA      747\n",
       "MS      715\n",
       "PB      536\n",
       "PI      495\n",
       "RN      485\n",
       "AL      413\n",
       "SE      350\n",
       "TO      280\n",
       "RO      253\n",
       "AM      148\n",
       "AC       81\n",
       "AP       68\n",
       "RR       46\n",
       "Name: count, dtype: int64"
      ]
     },
     "execution_count": 39,
     "metadata": {},
     "output_type": "execute_result"
    }
   ],
   "source": [
    "# get counts of states\n",
    "cust_df['customer_state'].value_counts(dropna = False)"
   ]
  },
  {
   "cell_type": "markdown",
   "id": "b267a079-afa0-4ad3-a9a8-5baaf6d24b16",
   "metadata": {},
   "source": [
    "**Unique States** = 27"
   ]
  },
  {
   "cell_type": "markdown",
   "id": "3ac38029-594c-4844-8be3-c186fe4c891b",
   "metadata": {},
   "source": [
    "### CONSISTENCY CHECKS"
   ]
  },
  {
   "cell_type": "markdown",
   "id": "27960d96-9016-4595-9e57-c6ac65afc119",
   "metadata": {},
   "source": [
    "#### 01. Mixed-Type Data"
   ]
  },
  {
   "cell_type": "code",
   "execution_count": 56,
   "id": "e8ba7ce8-919f-4177-a408-39551ee433f7",
   "metadata": {},
   "outputs": [
    {
     "name": "stdout",
     "output_type": "stream",
     "text": [
      "not mixed col\n",
      "not mixed col\n",
      "not mixed col\n",
      "not mixed col\n",
      "not mixed col\n"
     ]
    }
   ],
   "source": [
    "# check if cust_df has any mixed-type columns\n",
    "for col in cust_df.columns.tolist():\n",
    "    weird = (cust_df[[col]].map(type) != cust_df[[col]].iloc[0].apply(type)).any(axis = 1)\n",
    "    if len (cust_df[weird]) > 0:\n",
    "        print(col)\n",
    "    else:\n",
    "        print('not mixed col')"
   ]
  },
  {
   "cell_type": "markdown",
   "id": "a7096ff2-6714-44db-9b0a-2dc7001eb72b",
   "metadata": {},
   "source": [
    "**No mixed columns**"
   ]
  },
  {
   "cell_type": "markdown",
   "id": "328a8505-c53c-4fe7-aaa6-1e51e7b16f46",
   "metadata": {},
   "source": [
    "#### 02. Missing Values"
   ]
  },
  {
   "cell_type": "code",
   "execution_count": 63,
   "id": "99c23739-13fd-4fce-91c6-f7b289ba885a",
   "metadata": {},
   "outputs": [
    {
     "data": {
      "text/plain": [
       "customer_id                 0\n",
       "customer_unique_id          0\n",
       "customer_zip_code_prefix    0\n",
       "customer_city               0\n",
       "customer_state              0\n",
       "dtype: int64"
      ]
     },
     "execution_count": 63,
     "metadata": {},
     "output_type": "execute_result"
    }
   ],
   "source": [
    "# returns number of missing data by column\n",
    "cust_df.isnull().sum()"
   ]
  },
  {
   "cell_type": "markdown",
   "id": "5bfe281c-c424-4532-a17b-6da45c00cc7e",
   "metadata": {},
   "source": [
    "**No missing values**"
   ]
  },
  {
   "cell_type": "markdown",
   "id": "88a57a1a-4ca4-4474-8074-2c22bb95fdb2",
   "metadata": {},
   "source": [
    "#### 03. Duplicates"
   ]
  },
  {
   "cell_type": "code",
   "execution_count": 67,
   "id": "7b91b6fd-15cb-4d55-96ee-79c45611b644",
   "metadata": {},
   "outputs": [
    {
     "data": {
      "text/html": [
       "<div>\n",
       "<style scoped>\n",
       "    .dataframe tbody tr th:only-of-type {\n",
       "        vertical-align: middle;\n",
       "    }\n",
       "\n",
       "    .dataframe tbody tr th {\n",
       "        vertical-align: top;\n",
       "    }\n",
       "\n",
       "    .dataframe thead th {\n",
       "        text-align: right;\n",
       "    }\n",
       "</style>\n",
       "<table border=\"1\" class=\"dataframe\">\n",
       "  <thead>\n",
       "    <tr style=\"text-align: right;\">\n",
       "      <th></th>\n",
       "      <th>customer_id</th>\n",
       "      <th>customer_unique_id</th>\n",
       "      <th>customer_zip_code_prefix</th>\n",
       "      <th>customer_city</th>\n",
       "      <th>customer_state</th>\n",
       "    </tr>\n",
       "  </thead>\n",
       "  <tbody>\n",
       "  </tbody>\n",
       "</table>\n",
       "</div>"
      ],
      "text/plain": [
       "Empty DataFrame\n",
       "Columns: [customer_id, customer_unique_id, customer_zip_code_prefix, customer_city, customer_state]\n",
       "Index: []"
      ]
     },
     "execution_count": 67,
     "metadata": {},
     "output_type": "execute_result"
    }
   ],
   "source": [
    "# creates a subet containing only the full duplicates\n",
    "df_dups = cust_df[cust_df.duplicated()]\n",
    "df_dups"
   ]
  },
  {
   "cell_type": "markdown",
   "id": "4ac6165e-8741-47c0-aa88-fd20c410003a",
   "metadata": {},
   "source": [
    "**No full duplicates**"
   ]
  },
  {
   "cell_type": "markdown",
   "id": "32fb9b2a-cfbf-42d0-b43e-2667a8ef2d1e",
   "metadata": {},
   "source": [
    "### Export Data"
   ]
  },
  {
   "cell_type": "code",
   "execution_count": 71,
   "id": "501b07f4-32a0-4c47-98cb-5ee0303ef04a",
   "metadata": {},
   "outputs": [],
   "source": [
    "cust_df.to_csv(os.path.join(path, '02 Data', 'Prepared Data','customers_checked.csv'))"
   ]
  },
  {
   "cell_type": "code",
   "execution_count": null,
   "id": "fac7ef90-ee46-4bfe-bb96-58e9beb99c1d",
   "metadata": {},
   "outputs": [],
   "source": []
  }
 ],
 "metadata": {
  "kernelspec": {
   "display_name": "Python 3 (ipykernel)",
   "language": "python",
   "name": "python3"
  },
  "language_info": {
   "codemirror_mode": {
    "name": "ipython",
    "version": 3
   },
   "file_extension": ".py",
   "mimetype": "text/x-python",
   "name": "python",
   "nbconvert_exporter": "python",
   "pygments_lexer": "ipython3",
   "version": "3.12.7"
  }
 },
 "nbformat": 4,
 "nbformat_minor": 5
}
