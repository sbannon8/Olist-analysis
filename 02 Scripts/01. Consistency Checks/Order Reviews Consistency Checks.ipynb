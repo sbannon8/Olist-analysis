{
 "cells": [
  {
   "cell_type": "markdown",
   "id": "719f75a0-2029-456a-9db9-681f7076bbd0",
   "metadata": {},
   "source": [
    "## Import Libraries"
   ]
  },
  {
   "cell_type": "code",
   "execution_count": 1,
   "id": "2e6d92fa-0040-4174-bdcf-aa7646322a3e",
   "metadata": {},
   "outputs": [],
   "source": [
    "import pandas as pd\n",
    "import numpy as np\n",
    "import os"
   ]
  },
  {
   "cell_type": "markdown",
   "id": "aa64a567-436e-46ed-be4a-79b5947361f3",
   "metadata": {},
   "source": [
    "## Import Data"
   ]
  },
  {
   "cell_type": "code",
   "execution_count": 3,
   "id": "ffd52139-5509-4bd0-93e0-1ff44b97662f",
   "metadata": {},
   "outputs": [],
   "source": [
    "#path to main folder\n",
    "path = r'C:\\Users\\steve\\Documents\\Olist Marketplace Analysis'\n",
    "\n",
    "# import order reviews file\n",
    "reviews_df = pd.read_csv(os.path.join(path, '02 Data', 'Original Data', 'olist_order_reviews_dataset.csv'), index_col = False)"
   ]
  },
  {
   "cell_type": "markdown",
   "id": "9fdc58c7-b241-45a5-ab9b-fdde000bec8e",
   "metadata": {},
   "source": [
    "## Analysis"
   ]
  },
  {
   "cell_type": "markdown",
   "id": "62c2721b-31c3-4bcd-b253-9f1db5a0c3fb",
   "metadata": {},
   "source": [
    "#### 01. Content + Shape"
   ]
  },
  {
   "cell_type": "code",
   "execution_count": 8,
   "id": "cad4e6e3-1465-40ef-9e62-7f2be027a519",
   "metadata": {},
   "outputs": [
    {
     "data": {
      "text/html": [
       "<div>\n",
       "<style scoped>\n",
       "    .dataframe tbody tr th:only-of-type {\n",
       "        vertical-align: middle;\n",
       "    }\n",
       "\n",
       "    .dataframe tbody tr th {\n",
       "        vertical-align: top;\n",
       "    }\n",
       "\n",
       "    .dataframe thead th {\n",
       "        text-align: right;\n",
       "    }\n",
       "</style>\n",
       "<table border=\"1\" class=\"dataframe\">\n",
       "  <thead>\n",
       "    <tr style=\"text-align: right;\">\n",
       "      <th></th>\n",
       "      <th>review_id</th>\n",
       "      <th>order_id</th>\n",
       "      <th>review_score</th>\n",
       "      <th>review_comment_title</th>\n",
       "      <th>review_comment_message</th>\n",
       "      <th>review_creation_date</th>\n",
       "      <th>review_answer_timestamp</th>\n",
       "    </tr>\n",
       "  </thead>\n",
       "  <tbody>\n",
       "    <tr>\n",
       "      <th>0</th>\n",
       "      <td>7bc2406110b926393aa56f80a40eba40</td>\n",
       "      <td>73fc7af87114b39712e6da79b0a377eb</td>\n",
       "      <td>4</td>\n",
       "      <td>NaN</td>\n",
       "      <td>NaN</td>\n",
       "      <td>2018-01-18 00:00:00</td>\n",
       "      <td>2018-01-18 21:46:59</td>\n",
       "    </tr>\n",
       "    <tr>\n",
       "      <th>1</th>\n",
       "      <td>80e641a11e56f04c1ad469d5645fdfde</td>\n",
       "      <td>a548910a1c6147796b98fdf73dbeba33</td>\n",
       "      <td>5</td>\n",
       "      <td>NaN</td>\n",
       "      <td>NaN</td>\n",
       "      <td>2018-03-10 00:00:00</td>\n",
       "      <td>2018-03-11 03:05:13</td>\n",
       "    </tr>\n",
       "    <tr>\n",
       "      <th>2</th>\n",
       "      <td>228ce5500dc1d8e020d8d1322874b6f0</td>\n",
       "      <td>f9e4b658b201a9f2ecdecbb34bed034b</td>\n",
       "      <td>5</td>\n",
       "      <td>NaN</td>\n",
       "      <td>NaN</td>\n",
       "      <td>2018-02-17 00:00:00</td>\n",
       "      <td>2018-02-18 14:36:24</td>\n",
       "    </tr>\n",
       "    <tr>\n",
       "      <th>3</th>\n",
       "      <td>e64fb393e7b32834bb789ff8bb30750e</td>\n",
       "      <td>658677c97b385a9be170737859d3511b</td>\n",
       "      <td>5</td>\n",
       "      <td>NaN</td>\n",
       "      <td>Recebi bem antes do prazo estipulado.</td>\n",
       "      <td>2017-04-21 00:00:00</td>\n",
       "      <td>2017-04-21 22:02:06</td>\n",
       "    </tr>\n",
       "    <tr>\n",
       "      <th>4</th>\n",
       "      <td>f7c4243c7fe1938f181bec41a392bdeb</td>\n",
       "      <td>8e6bfb81e283fa7e4f11123a3fb894f1</td>\n",
       "      <td>5</td>\n",
       "      <td>NaN</td>\n",
       "      <td>Parabéns lojas lannister adorei comprar pela I...</td>\n",
       "      <td>2018-03-01 00:00:00</td>\n",
       "      <td>2018-03-02 10:26:53</td>\n",
       "    </tr>\n",
       "  </tbody>\n",
       "</table>\n",
       "</div>"
      ],
      "text/plain": [
       "                          review_id                          order_id  \\\n",
       "0  7bc2406110b926393aa56f80a40eba40  73fc7af87114b39712e6da79b0a377eb   \n",
       "1  80e641a11e56f04c1ad469d5645fdfde  a548910a1c6147796b98fdf73dbeba33   \n",
       "2  228ce5500dc1d8e020d8d1322874b6f0  f9e4b658b201a9f2ecdecbb34bed034b   \n",
       "3  e64fb393e7b32834bb789ff8bb30750e  658677c97b385a9be170737859d3511b   \n",
       "4  f7c4243c7fe1938f181bec41a392bdeb  8e6bfb81e283fa7e4f11123a3fb894f1   \n",
       "\n",
       "   review_score review_comment_title  \\\n",
       "0             4                  NaN   \n",
       "1             5                  NaN   \n",
       "2             5                  NaN   \n",
       "3             5                  NaN   \n",
       "4             5                  NaN   \n",
       "\n",
       "                              review_comment_message review_creation_date  \\\n",
       "0                                                NaN  2018-01-18 00:00:00   \n",
       "1                                                NaN  2018-03-10 00:00:00   \n",
       "2                                                NaN  2018-02-17 00:00:00   \n",
       "3              Recebi bem antes do prazo estipulado.  2017-04-21 00:00:00   \n",
       "4  Parabéns lojas lannister adorei comprar pela I...  2018-03-01 00:00:00   \n",
       "\n",
       "  review_answer_timestamp  \n",
       "0     2018-01-18 21:46:59  \n",
       "1     2018-03-11 03:05:13  \n",
       "2     2018-02-18 14:36:24  \n",
       "3     2017-04-21 22:02:06  \n",
       "4     2018-03-02 10:26:53  "
      ]
     },
     "execution_count": 8,
     "metadata": {},
     "output_type": "execute_result"
    }
   ],
   "source": [
    "reviews_df.head()"
   ]
  },
  {
   "cell_type": "code",
   "execution_count": 10,
   "id": "ed08d7b8-b229-48ce-9dd5-ed99f7853de9",
   "metadata": {},
   "outputs": [
    {
     "data": {
      "text/plain": [
       "(99224, 7)"
      ]
     },
     "execution_count": 10,
     "metadata": {},
     "output_type": "execute_result"
    }
   ],
   "source": [
    "reviews_df.shape"
   ]
  },
  {
   "cell_type": "code",
   "execution_count": 12,
   "id": "77149c68-ac81-4bbe-b6f5-760f7d435d01",
   "metadata": {},
   "outputs": [
    {
     "data": {
      "text/plain": [
       "dtype('O')"
      ]
     },
     "execution_count": 12,
     "metadata": {},
     "output_type": "execute_result"
    }
   ],
   "source": [
    "reviews_df['review_creation_date'].dtype"
   ]
  },
  {
   "cell_type": "code",
   "execution_count": 14,
   "id": "067aba08-52be-43b0-a3da-73fd83c6e22c",
   "metadata": {},
   "outputs": [
    {
     "name": "stdout",
     "output_type": "stream",
     "text": [
      "<class 'pandas.core.frame.DataFrame'>\n",
      "RangeIndex: 99224 entries, 0 to 99223\n",
      "Data columns (total 7 columns):\n",
      " #   Column                   Non-Null Count  Dtype \n",
      "---  ------                   --------------  ----- \n",
      " 0   review_id                99224 non-null  object\n",
      " 1   order_id                 99224 non-null  object\n",
      " 2   review_score             99224 non-null  int64 \n",
      " 3   review_comment_title     11568 non-null  object\n",
      " 4   review_comment_message   40977 non-null  object\n",
      " 5   review_creation_date     99224 non-null  object\n",
      " 6   review_answer_timestamp  99224 non-null  object\n",
      "dtypes: int64(1), object(6)\n",
      "memory usage: 5.3+ MB\n"
     ]
    }
   ],
   "source": [
    "reviews_df.info()"
   ]
  },
  {
   "cell_type": "code",
   "execution_count": 16,
   "id": "66566327-ac20-490f-a7f9-dd65967ed002",
   "metadata": {},
   "outputs": [
    {
     "data": {
      "text/html": [
       "<div>\n",
       "<style scoped>\n",
       "    .dataframe tbody tr th:only-of-type {\n",
       "        vertical-align: middle;\n",
       "    }\n",
       "\n",
       "    .dataframe tbody tr th {\n",
       "        vertical-align: top;\n",
       "    }\n",
       "\n",
       "    .dataframe thead th {\n",
       "        text-align: right;\n",
       "    }\n",
       "</style>\n",
       "<table border=\"1\" class=\"dataframe\">\n",
       "  <thead>\n",
       "    <tr style=\"text-align: right;\">\n",
       "      <th></th>\n",
       "      <th>review_score</th>\n",
       "    </tr>\n",
       "  </thead>\n",
       "  <tbody>\n",
       "    <tr>\n",
       "      <th>count</th>\n",
       "      <td>99224.000000</td>\n",
       "    </tr>\n",
       "    <tr>\n",
       "      <th>mean</th>\n",
       "      <td>4.086421</td>\n",
       "    </tr>\n",
       "    <tr>\n",
       "      <th>std</th>\n",
       "      <td>1.347579</td>\n",
       "    </tr>\n",
       "    <tr>\n",
       "      <th>min</th>\n",
       "      <td>1.000000</td>\n",
       "    </tr>\n",
       "    <tr>\n",
       "      <th>25%</th>\n",
       "      <td>4.000000</td>\n",
       "    </tr>\n",
       "    <tr>\n",
       "      <th>50%</th>\n",
       "      <td>5.000000</td>\n",
       "    </tr>\n",
       "    <tr>\n",
       "      <th>75%</th>\n",
       "      <td>5.000000</td>\n",
       "    </tr>\n",
       "    <tr>\n",
       "      <th>max</th>\n",
       "      <td>5.000000</td>\n",
       "    </tr>\n",
       "  </tbody>\n",
       "</table>\n",
       "</div>"
      ],
      "text/plain": [
       "       review_score\n",
       "count  99224.000000\n",
       "mean       4.086421\n",
       "std        1.347579\n",
       "min        1.000000\n",
       "25%        4.000000\n",
       "50%        5.000000\n",
       "75%        5.000000\n",
       "max        5.000000"
      ]
     },
     "execution_count": 16,
     "metadata": {},
     "output_type": "execute_result"
    }
   ],
   "source": [
    "reviews_df.describe()"
   ]
  },
  {
   "cell_type": "markdown",
   "id": "40b1eb0c-89c8-495f-8c11-11ce16064c07",
   "metadata": {},
   "source": [
    "#### 02. Value Counts"
   ]
  },
  {
   "cell_type": "markdown",
   "id": "5d99f082-0e81-4f87-83a6-fb1d9c796a42",
   "metadata": {},
   "source": [
    "Order id"
   ]
  },
  {
   "cell_type": "code",
   "execution_count": 20,
   "id": "8ca9d67e-8c77-4c70-b69c-38ec496037a8",
   "metadata": {},
   "outputs": [
    {
     "data": {
      "text/plain": [
       "order_id\n",
       "c88b1d1b157a9999ce368f218a407141    3\n",
       "8e17072ec97ce29f0e1f111e598b0c85    3\n",
       "df56136b8031ecd28e200bb18e6ddb2e    3\n",
       "03c939fd7fd3b38f8485a0f95798f1f6    3\n",
       "5cb890a68b91b6158d69257e4e2bc359    2\n",
       "                                   ..\n",
       "5b4e9a12d219f34f5c2de9f8d620b19d    1\n",
       "a6da096d974acc000962856d7386448a    1\n",
       "75e0647c26de647eca3421e9cc66c9da    1\n",
       "bad0467c52f23cdc71e9fa139d4a8afd    1\n",
       "90531360ecb1eec2a1fbb265a0db0508    1\n",
       "Name: count, Length: 98673, dtype: int64"
      ]
     },
     "execution_count": 20,
     "metadata": {},
     "output_type": "execute_result"
    }
   ],
   "source": [
    "# get counts of order ids\n",
    "reviews_df['order_id'].value_counts(dropna = False)"
   ]
  },
  {
   "cell_type": "markdown",
   "id": "0b48a9c2-4435-4776-a755-04598f23362e",
   "metadata": {},
   "source": [
    "**Unique Order IDs** = 98,673"
   ]
  },
  {
   "cell_type": "code",
   "execution_count": 23,
   "id": "7bbe9d56-d15d-4b18-a46b-3090d0fa7c30",
   "metadata": {},
   "outputs": [
    {
     "data": {
      "text/plain": [
       "review_id\n",
       "7b606b0d57b078384f0b58eac1d41d78    3\n",
       "dbdf1ea31790c8ecfcc6750525661a9b    3\n",
       "32415bbf6e341d5d517080a796f79b5c    3\n",
       "0c76e7a547a531e7bf9f0b99cba071c1    3\n",
       "4219a80ab469e3fc9901437b73da3f75    3\n",
       "                                   ..\n",
       "95e01591b0e69a2fab382b0c562d4e20    1\n",
       "93611e0327d6a1769d1e68cf3caa242d    1\n",
       "983c47de74278257f99c4b918fd380f1    1\n",
       "ca475b77fcc618551ef9d516c3f61b88    1\n",
       "efe49f1d6f951dd88b51e6ccd4cc548f    1\n",
       "Name: count, Length: 98410, dtype: int64"
      ]
     },
     "execution_count": 23,
     "metadata": {},
     "output_type": "execute_result"
    }
   ],
   "source": [
    "reviews_df['review_id'].value_counts(dropna = False)"
   ]
  },
  {
   "cell_type": "markdown",
   "id": "daad6a13-b5cd-4d01-b8ef-edb138206aec",
   "metadata": {},
   "source": [
    "**Unique Review IDs** = 98,410"
   ]
  },
  {
   "cell_type": "markdown",
   "id": "dff6ad18-79e3-4547-937e-c1363e295665",
   "metadata": {},
   "source": [
    "Score Review"
   ]
  },
  {
   "cell_type": "code",
   "execution_count": 27,
   "id": "b73c3a6e-e1ed-4dd6-a35e-58f5aa02778f",
   "metadata": {},
   "outputs": [
    {
     "data": {
      "text/plain": [
       "review_score\n",
       "5    57328\n",
       "4    19142\n",
       "1    11424\n",
       "3     8179\n",
       "2     3151\n",
       "Name: count, dtype: int64"
      ]
     },
     "execution_count": 27,
     "metadata": {},
     "output_type": "execute_result"
    }
   ],
   "source": [
    "# get counts of payment sequentials\n",
    "reviews_df['review_score'].value_counts(dropna = False)"
   ]
  },
  {
   "cell_type": "markdown",
   "id": "6edc94a6-c2ca-44dd-9a43-59f5b8aa2fcc",
   "metadata": {},
   "source": [
    "**Unique Paymental Sequentials** = 5"
   ]
  },
  {
   "cell_type": "markdown",
   "id": "0981fcc5-869a-40e6-a83a-07f830792b80",
   "metadata": {},
   "source": [
    "Comment Title"
   ]
  },
  {
   "cell_type": "code",
   "execution_count": 31,
   "id": "24d11c4c-007f-48ab-9935-b365cec664a1",
   "metadata": {},
   "outputs": [
    {
     "data": {
      "text/plain": [
       "review_comment_title\n",
       "NaN                          87656\n",
       "Recomendo                      423\n",
       "recomendo                      345\n",
       "Bom                            293\n",
       "super recomendo                270\n",
       "                             ...  \n",
       "Luminaria sobrepor led 18        1\n",
       "Não recebi.                      1\n",
       "produto com lacre violado        1\n",
       "Atraso Entrega                   1\n",
       "Foto enganosa                    1\n",
       "Name: count, Length: 4528, dtype: int64"
      ]
     },
     "execution_count": 31,
     "metadata": {},
     "output_type": "execute_result"
    }
   ],
   "source": [
    "# get counts of payment types\n",
    "reviews_df['review_comment_title'].value_counts(dropna = False)"
   ]
  },
  {
   "cell_type": "markdown",
   "id": "973ce185-2945-4cd3-a3f5-29c345943039",
   "metadata": {},
   "source": [
    "Comment Message"
   ]
  },
  {
   "cell_type": "code",
   "execution_count": 34,
   "id": "c2303117-55d1-46d5-839f-c3202bc6fbe9",
   "metadata": {},
   "outputs": [
    {
     "data": {
      "text/plain": [
       "review_comment_message\n",
       "NaN                                                                                                                                                                                                    58247\n",
       "Muito bom                                                                                                                                                                                                230\n",
       "Bom                                                                                                                                                                                                      189\n",
       "muito bom                                                                                                                                                                                                122\n",
       "bom                                                                                                                                                                                                      107\n",
       "                                                                                                                                                                                                       ...  \n",
       "Devido incompatibilidade vou devolver, ótimo produto!                                                                                                                                                      1\n",
       "Infelizmente não! A qualidade do produto não agradou.Impressão da foto em exposição remete a um tamanho maior e a recebida sequer atende a uma criança. PRODUTO NÃO JUSTIFICA O VALOR INFELIZMENTE!        1\n",
       "entrega na data prevista,somente a qualidade do material não é o mesmo que eu pensava mas pelo preço ta valido                                                                                             1\n",
       "otímo                                                                                                                                                                                                      1\n",
       "meu produto chegou e ja tenho que devolver, pois está com defeito , não segurar carga                                                                                                                      1\n",
       "Name: count, Length: 36160, dtype: int64"
      ]
     },
     "execution_count": 34,
     "metadata": {},
     "output_type": "execute_result"
    }
   ],
   "source": [
    "reviews_df['review_comment_message'].value_counts(dropna = False)"
   ]
  },
  {
   "cell_type": "markdown",
   "id": "3ac38029-594c-4844-8be3-c186fe4c891b",
   "metadata": {},
   "source": [
    "### CONSISTENCY CHECKS"
   ]
  },
  {
   "cell_type": "markdown",
   "id": "27960d96-9016-4595-9e57-c6ac65afc119",
   "metadata": {},
   "source": [
    "#### 01. Mixed-Type Data"
   ]
  },
  {
   "cell_type": "code",
   "execution_count": 38,
   "id": "e8ba7ce8-919f-4177-a408-39551ee433f7",
   "metadata": {},
   "outputs": [
    {
     "name": "stdout",
     "output_type": "stream",
     "text": [
      "review_comment_title\n",
      "review_comment_message\n"
     ]
    }
   ],
   "source": [
    "# check if there are any mixed-type columns\n",
    "for col in reviews_df.columns.tolist():\n",
    "    weird = (reviews_df[[col]].map(type) != reviews_df[[col]].iloc[0].apply(type)).any(axis = 1)\n",
    "    if len (reviews_df[weird]) > 0:\n",
    "        print(col)"
   ]
  },
  {
   "cell_type": "code",
   "execution_count": 46,
   "id": "cbf4ddb1-aca1-4b67-99a0-a08cb9403b99",
   "metadata": {},
   "outputs": [],
   "source": [
    "# convert both to type string\n",
    "reviews_df['review_comment_title'] = reviews_df['review_comment_title'].astype(\"string\")\n",
    "reviews_df['review_comment_message'] = reviews_df['review_comment_message'].astype(\"string\")"
   ]
  },
  {
   "cell_type": "markdown",
   "id": "a7096ff2-6714-44db-9b0a-2dc7001eb72b",
   "metadata": {},
   "source": [
    "**2 Mixed Type:** Review Title & Review Comment changed from mixed to str"
   ]
  },
  {
   "cell_type": "markdown",
   "id": "328a8505-c53c-4fe7-aaa6-1e51e7b16f46",
   "metadata": {},
   "source": [
    "#### 02. Missing Values"
   ]
  },
  {
   "cell_type": "code",
   "execution_count": 50,
   "id": "99c23739-13fd-4fce-91c6-f7b289ba885a",
   "metadata": {},
   "outputs": [
    {
     "data": {
      "text/plain": [
       "review_id                      0\n",
       "order_id                       0\n",
       "review_score                   0\n",
       "review_comment_title       87656\n",
       "review_comment_message     58247\n",
       "review_creation_date           0\n",
       "review_answer_timestamp        0\n",
       "dtype: int64"
      ]
     },
     "execution_count": 50,
     "metadata": {},
     "output_type": "execute_result"
    }
   ],
   "source": [
    "# returns number of missing data by column\n",
    "reviews_df.isnull().sum()"
   ]
  },
  {
   "cell_type": "markdown",
   "id": "5bfe281c-c424-4532-a17b-6da45c00cc7e",
   "metadata": {},
   "source": [
    "**Missing values** will be left as they are due to customers choosing only to leave a score and not any title or message."
   ]
  },
  {
   "cell_type": "markdown",
   "id": "88a57a1a-4ca4-4474-8074-2c22bb95fdb2",
   "metadata": {},
   "source": [
    "#### 03. Duplicates"
   ]
  },
  {
   "cell_type": "code",
   "execution_count": 33,
   "id": "7b91b6fd-15cb-4d55-96ee-79c45611b644",
   "metadata": {},
   "outputs": [
    {
     "data": {
      "text/html": [
       "<div>\n",
       "<style scoped>\n",
       "    .dataframe tbody tr th:only-of-type {\n",
       "        vertical-align: middle;\n",
       "    }\n",
       "\n",
       "    .dataframe tbody tr th {\n",
       "        vertical-align: top;\n",
       "    }\n",
       "\n",
       "    .dataframe thead th {\n",
       "        text-align: right;\n",
       "    }\n",
       "</style>\n",
       "<table border=\"1\" class=\"dataframe\">\n",
       "  <thead>\n",
       "    <tr style=\"text-align: right;\">\n",
       "      <th></th>\n",
       "      <th>review_id</th>\n",
       "      <th>order_id</th>\n",
       "      <th>review_score</th>\n",
       "      <th>review_comment_title</th>\n",
       "      <th>review_comment_message</th>\n",
       "      <th>review_creation_date</th>\n",
       "      <th>review_answer_timestamp</th>\n",
       "    </tr>\n",
       "  </thead>\n",
       "  <tbody>\n",
       "  </tbody>\n",
       "</table>\n",
       "</div>"
      ],
      "text/plain": [
       "Empty DataFrame\n",
       "Columns: [review_id, order_id, review_score, review_comment_title, review_comment_message, review_creation_date, review_answer_timestamp]\n",
       "Index: []"
      ]
     },
     "execution_count": 33,
     "metadata": {},
     "output_type": "execute_result"
    }
   ],
   "source": [
    "# creates a subet containing only the full duplicates\n",
    "df_dups = reviews_df[reviews_df.duplicated()]\n",
    "df_dups"
   ]
  },
  {
   "cell_type": "markdown",
   "id": "c807f79f-79ec-4c77-91dc-f5751338a359",
   "metadata": {},
   "source": [
    "**No full duplicates**"
   ]
  },
  {
   "cell_type": "markdown",
   "id": "32fb9b2a-cfbf-42d0-b43e-2667a8ef2d1e",
   "metadata": {},
   "source": [
    "### Export Data"
   ]
  },
  {
   "cell_type": "code",
   "execution_count": 36,
   "id": "501b07f4-32a0-4c47-98cb-5ee0303ef04a",
   "metadata": {},
   "outputs": [],
   "source": [
    "reviews_df.to_csv(os.path.join(path, '02 Data', 'Prepared Data','order_reviews_checked.csv'))"
   ]
  },
  {
   "cell_type": "code",
   "execution_count": null,
   "id": "fac7ef90-ee46-4bfe-bb96-58e9beb99c1d",
   "metadata": {},
   "outputs": [],
   "source": []
  }
 ],
 "metadata": {
  "kernelspec": {
   "display_name": "Python 3 (ipykernel)",
   "language": "python",
   "name": "python3"
  },
  "language_info": {
   "codemirror_mode": {
    "name": "ipython",
    "version": 3
   },
   "file_extension": ".py",
   "mimetype": "text/x-python",
   "name": "python",
   "nbconvert_exporter": "python",
   "pygments_lexer": "ipython3",
   "version": "3.12.7"
  }
 },
 "nbformat": 4,
 "nbformat_minor": 5
}
