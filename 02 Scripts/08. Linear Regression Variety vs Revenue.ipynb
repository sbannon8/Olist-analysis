{
 "cells": [
  {
   "cell_type": "markdown",
   "id": "367a2281-9080-44e0-a6ff-af4975a0756c",
   "metadata": {},
   "source": [
    "### Import Libraries"
   ]
  },
  {
   "cell_type": "code",
   "execution_count": 2,
   "id": "f496f8d2-4387-4221-8bff-a1332595fb24",
   "metadata": {},
   "outputs": [],
   "source": [
    "import pandas as pd\n",
    "import numpy as np\n",
    "import seaborn as sns\n",
    "import matplotlib\n",
    "import matplotlib.pyplot as plt\n",
    "import os\n",
    "import sklearn\n",
    "from sklearn.model_selection import train_test_split \n",
    "from sklearn.linear_model import LinearRegression\n",
    "from sklearn.metrics import mean_squared_error, r2_score"
   ]
  },
  {
   "cell_type": "markdown",
   "id": "86be04dc-8836-47bb-a2ea-6413533062c3",
   "metadata": {},
   "source": [
    "### Import Data"
   ]
  },
  {
   "cell_type": "code",
   "execution_count": 4,
   "id": "8f9ddae4-1cd9-4711-a034-60a9783a0ce6",
   "metadata": {},
   "outputs": [],
   "source": [
    "# main folder\n",
    "path = r'C:\\Users\\steve\\Documents\\Olist Marketplace Analysis'\n",
    "\n",
    "# data\n",
    "df = pd.read_pickle(os.path.join(path, '02 Data', 'Prepared Data', 'project_data_w_flags.pkl'))"
   ]
  },
  {
   "cell_type": "code",
   "execution_count": 5,
   "id": "2f167b91-b7f8-4d7d-8ce7-e1e0bac84d23",
   "metadata": {},
   "outputs": [],
   "source": [
    "# pd display settings\n",
    "pd.set_option('display.max_columns', 30)"
   ]
  },
  {
   "cell_type": "markdown",
   "id": "1e0e12ce-c0d9-4615-b145-925135ac0f79",
   "metadata": {},
   "source": [
    "### Data Summary"
   ]
  },
  {
   "cell_type": "code",
   "execution_count": 7,
   "id": "b3f3443c-8fc9-4a6a-bd92-2ae526190293",
   "metadata": {},
   "outputs": [
    {
     "data": {
      "text/html": [
       "<div>\n",
       "<style scoped>\n",
       "    .dataframe tbody tr th:only-of-type {\n",
       "        vertical-align: middle;\n",
       "    }\n",
       "\n",
       "    .dataframe tbody tr th {\n",
       "        vertical-align: top;\n",
       "    }\n",
       "\n",
       "    .dataframe thead th {\n",
       "        text-align: right;\n",
       "    }\n",
       "</style>\n",
       "<table border=\"1\" class=\"dataframe\">\n",
       "  <thead>\n",
       "    <tr style=\"text-align: right;\">\n",
       "      <th></th>\n",
       "      <th>order_id</th>\n",
       "      <th>seller_id</th>\n",
       "      <th>customer_id</th>\n",
       "      <th>product_id</th>\n",
       "      <th>product_category</th>\n",
       "      <th>price</th>\n",
       "      <th>freight_value</th>\n",
       "      <th>order_total</th>\n",
       "      <th>order_purchased_time</th>\n",
       "      <th>order_delivered_time</th>\n",
       "      <th>order_estimated_delivery_date</th>\n",
       "      <th>purchase_to_approved_hrs</th>\n",
       "      <th>delivery_time_hrs</th>\n",
       "      <th>product_description_length</th>\n",
       "      <th>product_photos_qty</th>\n",
       "      <th>review_score</th>\n",
       "      <th>customer_state</th>\n",
       "      <th>seller_state</th>\n",
       "      <th>num_orders</th>\n",
       "      <th>return_customer</th>\n",
       "      <th>num_orders_w_seller</th>\n",
       "      <th>return_to_seller</th>\n",
       "      <th>num_items</th>\n",
       "      <th>delivery_difference</th>\n",
       "      <th>on_time_flag</th>\n",
       "      <th>num_orders_received</th>\n",
       "      <th>total_revenue</th>\n",
       "      <th>unq_products_sold</th>\n",
       "      <th>revenue_flag</th>\n",
       "      <th>frequency_flag</th>\n",
       "    </tr>\n",
       "  </thead>\n",
       "  <tbody>\n",
       "    <tr>\n",
       "      <th>0</th>\n",
       "      <td>b81ef226f3fe1789b1e8b2acac839d17</td>\n",
       "      <td>213b25e6f54661939f11710a6fddb871</td>\n",
       "      <td>0a8556ac6be836b46b3e89920d59291c</td>\n",
       "      <td>af74cc53dcffc8384b29e7abfa41902b</td>\n",
       "      <td>Construction</td>\n",
       "      <td>79.80</td>\n",
       "      <td>19.53</td>\n",
       "      <td>99.33</td>\n",
       "      <td>2018-04-25 22:01:49</td>\n",
       "      <td>2018-05-09 17:36:51</td>\n",
       "      <td>2018-05-22</td>\n",
       "      <td>0.22</td>\n",
       "      <td>331.58</td>\n",
       "      <td>921.0</td>\n",
       "      <td>8.0</td>\n",
       "      <td>1.0</td>\n",
       "      <td>MG</td>\n",
       "      <td>SP</td>\n",
       "      <td>1</td>\n",
       "      <td>0</td>\n",
       "      <td>1</td>\n",
       "      <td>0</td>\n",
       "      <td>1</td>\n",
       "      <td>-13.0</td>\n",
       "      <td>early</td>\n",
       "      <td>200</td>\n",
       "      <td>15989.00</td>\n",
       "      <td>81</td>\n",
       "      <td>Low revenue</td>\n",
       "      <td>New customer</td>\n",
       "    </tr>\n",
       "    <tr>\n",
       "      <th>1</th>\n",
       "      <td>a9810da82917af2d9aefd1278f1dcfa0</td>\n",
       "      <td>eaf6d55068dea77334e8477d3878d89e</td>\n",
       "      <td>f2c7fc58a9de810828715166c672f10a</td>\n",
       "      <td>a630cc320a8c872f9de830cf121661a3</td>\n",
       "      <td>Auto</td>\n",
       "      <td>17.00</td>\n",
       "      <td>7.39</td>\n",
       "      <td>24.39</td>\n",
       "      <td>2018-06-26 11:01:38</td>\n",
       "      <td>2018-06-29 20:32:09</td>\n",
       "      <td>2018-07-16</td>\n",
       "      <td>0.29</td>\n",
       "      <td>81.51</td>\n",
       "      <td>1274.0</td>\n",
       "      <td>2.0</td>\n",
       "      <td>5.0</td>\n",
       "      <td>SP</td>\n",
       "      <td>SP</td>\n",
       "      <td>1</td>\n",
       "      <td>0</td>\n",
       "      <td>1</td>\n",
       "      <td>0</td>\n",
       "      <td>1</td>\n",
       "      <td>-17.0</td>\n",
       "      <td>early</td>\n",
       "      <td>3</td>\n",
       "      <td>51.00</td>\n",
       "      <td>2</td>\n",
       "      <td>Low revenue</td>\n",
       "      <td>New customer</td>\n",
       "    </tr>\n",
       "    <tr>\n",
       "      <th>2</th>\n",
       "      <td>25e8ea4e93396b6fa0d3dd708e76c1bd</td>\n",
       "      <td>cc419e0650a3c5ba77189a1882b7556a</td>\n",
       "      <td>25b14b69de0b6e184ae6fe2755e478f9</td>\n",
       "      <td>2028bf1b01cafb2d2b1901fca4083222</td>\n",
       "      <td>Beauty</td>\n",
       "      <td>56.99</td>\n",
       "      <td>8.72</td>\n",
       "      <td>65.71</td>\n",
       "      <td>2017-12-12 11:19:55</td>\n",
       "      <td>2017-12-18 17:24:41</td>\n",
       "      <td>2018-01-04</td>\n",
       "      <td>46.54</td>\n",
       "      <td>150.08</td>\n",
       "      <td>1536.0</td>\n",
       "      <td>2.0</td>\n",
       "      <td>5.0</td>\n",
       "      <td>SP</td>\n",
       "      <td>SP</td>\n",
       "      <td>1</td>\n",
       "      <td>0</td>\n",
       "      <td>1</td>\n",
       "      <td>0</td>\n",
       "      <td>1</td>\n",
       "      <td>-17.0</td>\n",
       "      <td>early</td>\n",
       "      <td>1893</td>\n",
       "      <td>110821.27</td>\n",
       "      <td>37</td>\n",
       "      <td>High revenue</td>\n",
       "      <td>New customer</td>\n",
       "    </tr>\n",
       "  </tbody>\n",
       "</table>\n",
       "</div>"
      ],
      "text/plain": [
       "                           order_id                         seller_id  \\\n",
       "0  b81ef226f3fe1789b1e8b2acac839d17  213b25e6f54661939f11710a6fddb871   \n",
       "1  a9810da82917af2d9aefd1278f1dcfa0  eaf6d55068dea77334e8477d3878d89e   \n",
       "2  25e8ea4e93396b6fa0d3dd708e76c1bd  cc419e0650a3c5ba77189a1882b7556a   \n",
       "\n",
       "                        customer_id                        product_id  \\\n",
       "0  0a8556ac6be836b46b3e89920d59291c  af74cc53dcffc8384b29e7abfa41902b   \n",
       "1  f2c7fc58a9de810828715166c672f10a  a630cc320a8c872f9de830cf121661a3   \n",
       "2  25b14b69de0b6e184ae6fe2755e478f9  2028bf1b01cafb2d2b1901fca4083222   \n",
       "\n",
       "  product_category  price  freight_value  order_total order_purchased_time  \\\n",
       "0     Construction  79.80          19.53        99.33  2018-04-25 22:01:49   \n",
       "1             Auto  17.00           7.39        24.39  2018-06-26 11:01:38   \n",
       "2           Beauty  56.99           8.72        65.71  2017-12-12 11:19:55   \n",
       "\n",
       "  order_delivered_time order_estimated_delivery_date  \\\n",
       "0  2018-05-09 17:36:51                    2018-05-22   \n",
       "1  2018-06-29 20:32:09                    2018-07-16   \n",
       "2  2017-12-18 17:24:41                    2018-01-04   \n",
       "\n",
       "   purchase_to_approved_hrs  delivery_time_hrs  product_description_length  \\\n",
       "0                      0.22             331.58                       921.0   \n",
       "1                      0.29              81.51                      1274.0   \n",
       "2                     46.54             150.08                      1536.0   \n",
       "\n",
       "   product_photos_qty  review_score customer_state seller_state  num_orders  \\\n",
       "0                 8.0           1.0             MG           SP           1   \n",
       "1                 2.0           5.0             SP           SP           1   \n",
       "2                 2.0           5.0             SP           SP           1   \n",
       "\n",
       "   return_customer  num_orders_w_seller  return_to_seller  num_items  \\\n",
       "0                0                    1                 0          1   \n",
       "1                0                    1                 0          1   \n",
       "2                0                    1                 0          1   \n",
       "\n",
       "   delivery_difference on_time_flag  num_orders_received  total_revenue  \\\n",
       "0                -13.0        early                  200       15989.00   \n",
       "1                -17.0        early                    3          51.00   \n",
       "2                -17.0        early                 1893      110821.27   \n",
       "\n",
       "   unq_products_sold  revenue_flag frequency_flag  \n",
       "0                 81   Low revenue   New customer  \n",
       "1                  2   Low revenue   New customer  \n",
       "2                 37  High revenue   New customer  "
      ]
     },
     "execution_count": 7,
     "metadata": {},
     "output_type": "execute_result"
    }
   ],
   "source": [
    "df.head(3)"
   ]
  },
  {
   "cell_type": "code",
   "execution_count": 8,
   "id": "5b71f71a-64a5-45d7-afa1-d284f98b6e8d",
   "metadata": {},
   "outputs": [
    {
     "data": {
      "text/plain": [
       "(118307, 30)"
      ]
     },
     "execution_count": 8,
     "metadata": {},
     "output_type": "execute_result"
    }
   ],
   "source": [
    "df.shape"
   ]
  },
  {
   "cell_type": "markdown",
   "id": "2d9058b8-9ac8-4d52-8753-b8d1035b831e",
   "metadata": {},
   "source": [
    "#### Extreme Values Check"
   ]
  },
  {
   "cell_type": "markdown",
   "id": "afdfd049-9d83-4731-8d67-142388f01c48",
   "metadata": {},
   "source": [
    "*Sold Unique Products* ---"
   ]
  },
  {
   "cell_type": "code",
   "execution_count": 11,
   "id": "188a624d-7f1f-435d-bfdb-6eee9800c7c5",
   "metadata": {},
   "outputs": [
    {
     "data": {
      "text/plain": [
       "<seaborn.axisgrid.FacetGrid at 0x1c2cf3d4bc0>"
      ]
     },
     "execution_count": 11,
     "metadata": {},
     "output_type": "execute_result"
    },
    {
     "data": {
      "image/png": "[encoded data removed]",
      "text/plain": [
       "<Figure size 500x500 with 1 Axes>"
      ]
     },
     "metadata": {},
     "output_type": "display_data"
    }
   ],
   "source": [
    "sns.displot(df['unq_products_sold'], bins=25)"
   ]
  },
  {
   "cell_type": "code",
   "execution_count": 12,
   "id": "500716b0-8768-42d6-b4b0-197ec0f6b3de",
   "metadata": {},
   "outputs": [
    {
     "data": {
      "text/plain": [
       "(71.26, 1, 399)"
      ]
     },
     "execution_count": 12,
     "metadata": {},
     "output_type": "execute_result"
    }
   ],
   "source": [
    "(round(df['unq_products_sold'].mean(), 2)), df['unq_products_sold'].min(), df['unq_products_sold'].max()"
   ]
  },
  {
   "cell_type": "markdown",
   "id": "5844e7fd-3fca-4a0c-8ed7-0119b94582bb",
   "metadata": {},
   "source": [
    "*Total Revenue* ---"
   ]
  },
  {
   "cell_type": "code",
   "execution_count": 14,
   "id": "5ebb0b40-ffed-4709-918a-72b736543cb6",
   "metadata": {},
   "outputs": [
    {
     "data": {
      "text/plain": [
       "<seaborn.axisgrid.FacetGrid at 0x1c2d2231df0>"
      ]
     },
     "execution_count": 14,
     "metadata": {},
     "output_type": "execute_result"
    },
    {
     "data": {
      "image/png": "[encoded data removed]",
      "text/plain": [
       "<Figure size 500x500 with 1 Axes>"
      ]
     },
     "metadata": {},
     "output_type": "display_data"
    }
   ],
   "source": [
    "sns.displot(df['total_revenue'], bins=25)"
   ]
  },
  {
   "cell_type": "code",
   "execution_count": 15,
   "id": "18858b69-ec34-4a30-a9e4-75dd65d8ce20",
   "metadata": {},
   "outputs": [
    {
     "data": {
      "text/plain": [
       "(42826.04, 3.5, 244627.55)"
      ]
     },
     "execution_count": 15,
     "metadata": {},
     "output_type": "execute_result"
    }
   ],
   "source": [
    "(round(df['total_revenue'].mean(), 2)), df['total_revenue'].min(), df['total_revenue'].max()"
   ]
  },
  {
   "cell_type": "markdown",
   "id": "000a0eaa-a777-4c91-a5da-0b75cb09ca8d",
   "metadata": {},
   "source": [
    "### Data Prep for Regression Analysis"
   ]
  },
  {
   "cell_type": "markdown",
   "id": "38ff406d-3f65-4313-af12-da14d0a4c122",
   "metadata": {},
   "source": [
    "**Hypothesis Exploring** Olist sellers who are selling a variety of products will have higher total revenue."
   ]
  },
  {
   "cell_type": "markdown",
   "id": "0118e0f0-b140-4f0b-9076-c856553de6af",
   "metadata": {},
   "source": [
    "#### 1. Visualize Variables"
   ]
  },
  {
   "cell_type": "code",
   "execution_count": 19,
   "id": "15269b61-7c10-45cb-9def-279fa24cc3c8",
   "metadata": {},
   "outputs": [],
   "source": [
    "# create df for regression using only cols needed\n",
    "df_reg = df[['unq_products_sold', 'total_revenue']] "
   ]
  },
  {
   "cell_type": "code",
   "execution_count": 20,
   "id": "b40880c5-6f6b-4b4f-bc13-42b5f4fa8900",
   "metadata": {},
   "outputs": [
    {
     "data": {
      "image/png": "[encoded data removed]",
      "text/plain": [
       "<Figure size 640x480 with 1 Axes>"
      ]
     },
     "metadata": {},
     "output_type": "display_data"
    }
   ],
   "source": [
    "# scatterplot -> unq_products_sold vs total_revenue\n",
    "df_reg.plot(x = 'unq_products_sold', y='total_revenue',style='o')\n",
    "plt.title('Number of Unique Products Sold vs Total Revenue (Per Seller)')  \n",
    "plt.xlabel('Unique Products Sold')  \n",
    "plt.ylabel('Total Revenue')  \n",
    "plt.show()"
   ]
  },
  {
   "cell_type": "code",
   "execution_count": 21,
   "id": "2725c7a8-19fa-46d0-af54-b59721b89e96",
   "metadata": {},
   "outputs": [
    {
     "data": {
      "text/plain": [
       "unq_products_sold    0\n",
       "total_revenue        0\n",
       "dtype: int64"
      ]
     },
     "execution_count": 21,
     "metadata": {},
     "output_type": "execute_result"
    }
   ],
   "source": [
    "df_reg.isnull().sum()"
   ]
  },
  {
   "cell_type": "code",
   "execution_count": 22,
   "id": "728192c6-fc22-4ad9-8fc5-88ecdccba4b9",
   "metadata": {},
   "outputs": [
    {
     "name": "stdout",
     "output_type": "stream",
     "text": [
      "<class 'pandas.core.frame.DataFrame'>\n",
      "RangeIndex: 118307 entries, 0 to 118306\n",
      "Data columns (total 2 columns):\n",
      " #   Column             Non-Null Count   Dtype  \n",
      "---  ------             --------------   -----  \n",
      " 0   unq_products_sold  118307 non-null  int64  \n",
      " 1   total_revenue      118307 non-null  float64\n",
      "dtypes: float64(1), int64(1)\n",
      "memory usage: 1.8 MB\n"
     ]
    }
   ],
   "source": [
    "df_reg.info()"
   ]
  },
  {
   "cell_type": "code",
   "execution_count": 23,
   "id": "c77b29ff-4ece-48c0-ae6f-d819a3101a2c",
   "metadata": {},
   "outputs": [
    {
     "data": {
      "text/html": [
       "<div>\n",
       "<style scoped>\n",
       "    .dataframe tbody tr th:only-of-type {\n",
       "        vertical-align: middle;\n",
       "    }\n",
       "\n",
       "    .dataframe tbody tr th {\n",
       "        vertical-align: top;\n",
       "    }\n",
       "\n",
       "    .dataframe thead th {\n",
       "        text-align: right;\n",
       "    }\n",
       "</style>\n",
       "<table border=\"1\" class=\"dataframe\">\n",
       "  <thead>\n",
       "    <tr style=\"text-align: right;\">\n",
       "      <th></th>\n",
       "      <th>unq_products_sold</th>\n",
       "      <th>total_revenue</th>\n",
       "    </tr>\n",
       "  </thead>\n",
       "  <tbody>\n",
       "    <tr>\n",
       "      <th>count</th>\n",
       "      <td>118307.0</td>\n",
       "      <td>118307.0</td>\n",
       "    </tr>\n",
       "    <tr>\n",
       "      <th>mean</th>\n",
       "      <td>71.0</td>\n",
       "      <td>42826.0</td>\n",
       "    </tr>\n",
       "    <tr>\n",
       "      <th>std</th>\n",
       "      <td>84.0</td>\n",
       "      <td>58614.0</td>\n",
       "    </tr>\n",
       "    <tr>\n",
       "      <th>min</th>\n",
       "      <td>1.0</td>\n",
       "      <td>4.0</td>\n",
       "    </tr>\n",
       "    <tr>\n",
       "      <th>25%</th>\n",
       "      <td>14.0</td>\n",
       "      <td>5154.0</td>\n",
       "    </tr>\n",
       "    <tr>\n",
       "      <th>50%</th>\n",
       "      <td>37.0</td>\n",
       "      <td>14684.0</td>\n",
       "    </tr>\n",
       "    <tr>\n",
       "      <th>75%</th>\n",
       "      <td>104.0</td>\n",
       "      <td>48838.0</td>\n",
       "    </tr>\n",
       "    <tr>\n",
       "      <th>max</th>\n",
       "      <td>399.0</td>\n",
       "      <td>244628.0</td>\n",
       "    </tr>\n",
       "  </tbody>\n",
       "</table>\n",
       "</div>"
      ],
      "text/plain": [
       "       unq_products_sold  total_revenue\n",
       "count           118307.0       118307.0\n",
       "mean                71.0        42826.0\n",
       "std                 84.0        58614.0\n",
       "min                  1.0            4.0\n",
       "25%                 14.0         5154.0\n",
       "50%                 37.0        14684.0\n",
       "75%                104.0        48838.0\n",
       "max                399.0       244628.0"
      ]
     },
     "execution_count": 23,
     "metadata": {},
     "output_type": "execute_result"
    }
   ],
   "source": [
    "df_reg.describe().round()"
   ]
  },
  {
   "cell_type": "markdown",
   "id": "7384785e-7616-421f-aeaa-964c18ad117d",
   "metadata": {},
   "source": [
    "#### 2. Standardize Data"
   ]
  },
  {
   "cell_type": "code",
   "execution_count": 25,
   "id": "2812c45d-47f8-4b4c-8878-76a938e11253",
   "metadata": {},
   "outputs": [],
   "source": [
    "X1 = df_reg.iloc[:, 0:2]"
   ]
  },
  {
   "cell_type": "code",
   "execution_count": 26,
   "id": "52154d50-0c48-4814-9392-2636ab041ee7",
   "metadata": {},
   "outputs": [],
   "source": [
    "from sklearn.preprocessing import StandardScaler"
   ]
  },
  {
   "cell_type": "code",
   "execution_count": 27,
   "id": "f7231a24-6b0a-4a03-8614-57d685dbb198",
   "metadata": {},
   "outputs": [],
   "source": [
    "scaleStandard = StandardScaler()"
   ]
  },
  {
   "cell_type": "code",
   "execution_count": 28,
   "id": "0144ab59-3901-4c41-959b-9638f80460fc",
   "metadata": {},
   "outputs": [],
   "source": [
    "X1 = scaleStandard.fit_transform(X1)"
   ]
  },
  {
   "cell_type": "code",
   "execution_count": 29,
   "id": "f65b6d5f-9439-44a1-a7aa-7eaa4c45967f",
   "metadata": {},
   "outputs": [],
   "source": [
    "X1 = pd.DataFrame(X1, columns = ['unq_products_sold', 'total_revenue'])"
   ]
  },
  {
   "cell_type": "code",
   "execution_count": 30,
   "id": "3e1aa9c3-a672-48f5-8090-ee72c9161640",
   "metadata": {},
   "outputs": [
    {
     "data": {
      "text/html": [
       "<div>\n",
       "<style scoped>\n",
       "    .dataframe tbody tr th:only-of-type {\n",
       "        vertical-align: middle;\n",
       "    }\n",
       "\n",
       "    .dataframe tbody tr th {\n",
       "        vertical-align: top;\n",
       "    }\n",
       "\n",
       "    .dataframe thead th {\n",
       "        text-align: right;\n",
       "    }\n",
       "</style>\n",
       "<table border=\"1\" class=\"dataframe\">\n",
       "  <thead>\n",
       "    <tr style=\"text-align: right;\">\n",
       "      <th></th>\n",
       "      <th>unq_products_sold</th>\n",
       "      <th>total_revenue</th>\n",
       "    </tr>\n",
       "  </thead>\n",
       "  <tbody>\n",
       "    <tr>\n",
       "      <th>0</th>\n",
       "      <td>0.115563</td>\n",
       "      <td>-0.457863</td>\n",
       "    </tr>\n",
       "    <tr>\n",
       "      <th>1</th>\n",
       "      <td>-0.822092</td>\n",
       "      <td>-0.729778</td>\n",
       "    </tr>\n",
       "    <tr>\n",
       "      <th>2</th>\n",
       "      <td>-0.406675</td>\n",
       "      <td>1.160056</td>\n",
       "    </tr>\n",
       "    <tr>\n",
       "      <th>3</th>\n",
       "      <td>1.789101</td>\n",
       "      <td>2.200142</td>\n",
       "    </tr>\n",
       "    <tr>\n",
       "      <th>4</th>\n",
       "      <td>1.789101</td>\n",
       "      <td>2.200142</td>\n",
       "    </tr>\n",
       "  </tbody>\n",
       "</table>\n",
       "</div>"
      ],
      "text/plain": [
       "   unq_products_sold  total_revenue\n",
       "0           0.115563      -0.457863\n",
       "1          -0.822092      -0.729778\n",
       "2          -0.406675       1.160056\n",
       "3           1.789101       2.200142\n",
       "4           1.789101       2.200142"
      ]
     },
     "execution_count": 30,
     "metadata": {},
     "output_type": "execute_result"
    }
   ],
   "source": [
    "X1.head()"
   ]
  },
  {
   "cell_type": "code",
   "execution_count": 31,
   "id": "1eeb9097-891a-47bb-b2fc-37269f5229aa",
   "metadata": {},
   "outputs": [
    {
     "data": {
      "text/html": [
       "<div>\n",
       "<style scoped>\n",
       "    .dataframe tbody tr th:only-of-type {\n",
       "        vertical-align: middle;\n",
       "    }\n",
       "\n",
       "    .dataframe tbody tr th {\n",
       "        vertical-align: top;\n",
       "    }\n",
       "\n",
       "    .dataframe thead th {\n",
       "        text-align: right;\n",
       "    }\n",
       "</style>\n",
       "<table border=\"1\" class=\"dataframe\">\n",
       "  <thead>\n",
       "    <tr style=\"text-align: right;\">\n",
       "      <th></th>\n",
       "      <th>unq_products_sold</th>\n",
       "      <th>total_revenue</th>\n",
       "    </tr>\n",
       "  </thead>\n",
       "  <tbody>\n",
       "    <tr>\n",
       "      <th>count</th>\n",
       "      <td>118307.00</td>\n",
       "      <td>118307.00</td>\n",
       "    </tr>\n",
       "    <tr>\n",
       "      <th>mean</th>\n",
       "      <td>-0.00</td>\n",
       "      <td>-0.00</td>\n",
       "    </tr>\n",
       "    <tr>\n",
       "      <th>std</th>\n",
       "      <td>1.00</td>\n",
       "      <td>1.00</td>\n",
       "    </tr>\n",
       "    <tr>\n",
       "      <th>min</th>\n",
       "      <td>-0.83</td>\n",
       "      <td>-0.73</td>\n",
       "    </tr>\n",
       "    <tr>\n",
       "      <th>25%</th>\n",
       "      <td>-0.68</td>\n",
       "      <td>-0.64</td>\n",
       "    </tr>\n",
       "    <tr>\n",
       "      <th>50%</th>\n",
       "      <td>-0.41</td>\n",
       "      <td>-0.48</td>\n",
       "    </tr>\n",
       "    <tr>\n",
       "      <th>75%</th>\n",
       "      <td>0.39</td>\n",
       "      <td>0.10</td>\n",
       "    </tr>\n",
       "    <tr>\n",
       "      <th>max</th>\n",
       "      <td>3.89</td>\n",
       "      <td>3.44</td>\n",
       "    </tr>\n",
       "  </tbody>\n",
       "</table>\n",
       "</div>"
      ],
      "text/plain": [
       "       unq_products_sold  total_revenue\n",
       "count          118307.00      118307.00\n",
       "mean               -0.00          -0.00\n",
       "std                 1.00           1.00\n",
       "min                -0.83          -0.73\n",
       "25%                -0.68          -0.64\n",
       "50%                -0.41          -0.48\n",
       "75%                 0.39           0.10\n",
       "max                 3.89           3.44"
      ]
     },
     "execution_count": 31,
     "metadata": {},
     "output_type": "execute_result"
    }
   ],
   "source": [
    "X1.describe().round(2)"
   ]
  },
  {
   "cell_type": "markdown",
   "id": "a274631f-ea35-4d58-b542-cf61b559bd2f",
   "metadata": {},
   "source": [
    "#### 3.Reshape & Split Data"
   ]
  },
  {
   "cell_type": "code",
   "execution_count": 33,
   "id": "9bd6bb74-4a5f-44b7-9feb-80a3ce82a51a",
   "metadata": {},
   "outputs": [],
   "source": [
    "# reshape variables into NumPy arrays and put into separate objects\n",
    "X = X1['unq_products_sold'].values.reshape(-1,1)\n",
    "y = X1['total_revenue'].values.reshape(-1,1)"
   ]
  },
  {
   "cell_type": "code",
   "execution_count": 34,
   "id": "801e29e7-cdf9-442c-858c-43b48e4ed75e",
   "metadata": {},
   "outputs": [
    {
     "data": {
      "text/plain": [
       "array([[ 0.11556328],\n",
       "       [-0.82209239],\n",
       "       [-0.40667532],\n",
       "       ...,\n",
       "       [-0.78648521],\n",
       "       [-0.82209239],\n",
       "       [ 1.78910063]])"
      ]
     },
     "execution_count": 34,
     "metadata": {},
     "output_type": "execute_result"
    }
   ],
   "source": [
    "X"
   ]
  },
  {
   "cell_type": "code",
   "execution_count": 35,
   "id": "07ab195c-ecee-46b8-8b75-9fe593b7383f",
   "metadata": {},
   "outputs": [
    {
     "data": {
      "text/plain": [
       "array([[-0.45786265],\n",
       "       [-0.72977844],\n",
       "       [ 1.16005627],\n",
       "       ...,\n",
       "       [-0.71480055],\n",
       "       [-0.61072785],\n",
       "       [ 2.20014185]])"
      ]
     },
     "execution_count": 35,
     "metadata": {},
     "output_type": "execute_result"
    }
   ],
   "source": [
    "y"
   ]
  },
  {
   "cell_type": "code",
   "execution_count": 36,
   "id": "e63b3170-e640-4133-8c63-2fa32d0092ef",
   "metadata": {},
   "outputs": [],
   "source": [
    "# split data into training set and test set\n",
    "X_train, X_test, y_train, y_test = train_test_split(X, y, test_size=0.3, random_state=0)"
   ]
  },
  {
   "cell_type": "markdown",
   "id": "34c4c477-1f1c-4c8c-84b8-f3ec34d53e63",
   "metadata": {},
   "source": [
    "### Regression Analysis"
   ]
  },
  {
   "cell_type": "code",
   "execution_count": 38,
   "id": "c06d8621-3672-44db-9f13-cbdcddc8fc0b",
   "metadata": {},
   "outputs": [],
   "source": [
    "# create regression analysis\n",
    "regression = LinearRegression()"
   ]
  },
  {
   "cell_type": "code",
   "execution_count": 39,
   "id": "54d78af6-4297-4b31-bea1-43cee0f50123",
   "metadata": {},
   "outputs": [
    {
     "data": {
      "text/html": [
       "<style>#sk-container-id-1 {\n",
       "  /* Definition of color scheme common for light and dark mode */\n",
       "  --sklearn-color-text: black;\n",
       "  --sklearn-color-line: gray;\n",
       "  /* Definition of color scheme for unfitted estimators */\n",
       "  --sklearn-color-unfitted-level-0: #fff5e6;\n",
       "  --sklearn-color-unfitted-level-1: #f6e4d2;\n",
       "  --sklearn-color-unfitted-level-2: #ffe0b3;\n",
       "  --sklearn-color-unfitted-level-3: chocolate;\n",
       "  /* Definition of color scheme for fitted estimators */\n",
       "  --sklearn-color-fitted-level-0: #f0f8ff;\n",
       "  --sklearn-color-fitted-level-1: #d4ebff;\n",
       "  --sklearn-color-fitted-level-2: #b3dbfd;\n",
       "  --sklearn-color-fitted-level-3: cornflowerblue;\n",
       "\n",
       "  /* Specific color for light theme */\n",
       "  --sklearn-color-text-on-default-background: var(--sg-text-color, var(--theme-code-foreground, var(--jp-content-font-color1, black)));\n",
       "  --sklearn-color-background: var(--sg-background-color, var(--theme-background, var(--jp-layout-color0, white)));\n",
       "  --sklearn-color-border-box: var(--sg-text-color, var(--theme-code-foreground, var(--jp-content-font-color1, black)));\n",
       "  --sklearn-color-icon: #696969;\n",
       "\n",
       "  @media (prefers-color-scheme: dark) {\n",
       "    /* Redefinition of color scheme for dark theme */\n",
       "    --sklearn-color-text-on-default-background: var(--sg-text-color, var(--theme-code-foreground, var(--jp-content-font-color1, white)));\n",
       "    --sklearn-color-background: var(--sg-background-color, var(--theme-background, var(--jp-layout-color0, #111)));\n",
       "    --sklearn-color-border-box: var(--sg-text-color, var(--theme-code-foreground, var(--jp-content-font-color1, white)));\n",
       "    --sklearn-color-icon: #878787;\n",
       "  }\n",
       "}\n",
       "\n",
       "#sk-container-id-1 {\n",
       "  color: var(--sklearn-color-text);\n",
       "}\n",
       "\n",
       "#sk-container-id-1 pre {\n",
       "  padding: 0;\n",
       "}\n",
       "\n",
       "#sk-container-id-1 input.sk-hidden--visually {\n",
       "  border: 0;\n",
       "  clip: rect(1px 1px 1px 1px);\n",
       "  clip: rect(1px, 1px, 1px, 1px);\n",
       "  height: 1px;\n",
       "  margin: -1px;\n",
       "  overflow: hidden;\n",
       "  padding: 0;\n",
       "  position: absolute;\n",
       "  width: 1px;\n",
       "}\n",
       "\n",
       "#sk-container-id-1 div.sk-dashed-wrapped {\n",
       "  border: 1px dashed var(--sklearn-color-line);\n",
       "  margin: 0 0.4em 0.5em 0.4em;\n",
       "  box-sizing: border-box;\n",
       "  padding-bottom: 0.4em;\n",
       "  background-color: var(--sklearn-color-background);\n",
       "}\n",
       "\n",
       "#sk-container-id-1 div.sk-container {\n",
       "  /* jupyter's `normalize.less` sets `[hidden] { display: none; }`\n",
       "     but bootstrap.min.css set `[hidden] { display: none !important; }`\n",
       "     so we also need the `!important` here to be able to override the\n",
       "     default hidden behavior on the sphinx rendered scikit-learn.org.\n",
       "     See: https://github.com/scikit-learn/scikit-learn/issues/21755 */\n",
       "  display: inline-block !important;\n",
       "  position: relative;\n",
       "}\n",
       "\n",
       "#sk-container-id-1 div.sk-text-repr-fallback {\n",
       "  display: none;\n",
       "}\n",
       "\n",
       "div.sk-parallel-item,\n",
       "div.sk-serial,\n",
       "div.sk-item {\n",
       "  /* draw centered vertical line to link estimators */\n",
       "  background-image: linear-gradient(var(--sklearn-color-text-on-default-background), var(--sklearn-color-text-on-default-background));\n",
       "  background-size: 2px 100%;\n",
       "  background-repeat: no-repeat;\n",
       "  background-position: center center;\n",
       "}\n",
       "\n",
       "/* Parallel-specific style estimator block */\n",
       "\n",
       "#sk-container-id-1 div.sk-parallel-item::after {\n",
       "  content: \"\";\n",
       "  width: 100%;\n",
       "  border-bottom: 2px solid var(--sklearn-color-text-on-default-background);\n",
       "  flex-grow: 1;\n",
       "}\n",
       "\n",
       "#sk-container-id-1 div.sk-parallel {\n",
       "  display: flex;\n",
       "  align-items: stretch;\n",
       "  justify-content: center;\n",
       "  background-color: var(--sklearn-color-background);\n",
       "  position: relative;\n",
       "}\n",
       "\n",
       "#sk-container-id-1 div.sk-parallel-item {\n",
       "  display: flex;\n",
       "  flex-direction: column;\n",
       "}\n",
       "\n",
       "#sk-container-id-1 div.sk-parallel-item:first-child::after {\n",
       "  align-self: flex-end;\n",
       "  width: 50%;\n",
       "}\n",
       "\n",
       "#sk-container-id-1 div.sk-parallel-item:last-child::after {\n",
       "  align-self: flex-start;\n",
       "  width: 50%;\n",
       "}\n",
       "\n",
       "#sk-container-id-1 div.sk-parallel-item:only-child::after {\n",
       "  width: 0;\n",
       "}\n",
       "\n",
       "/* Serial-specific style estimator block */\n",
       "\n",
       "#sk-container-id-1 div.sk-serial {\n",
       "  display: flex;\n",
       "  flex-direction: column;\n",
       "  align-items: center;\n",
       "  background-color: var(--sklearn-color-background);\n",
       "  padding-right: 1em;\n",
       "  padding-left: 1em;\n",
       "}\n",
       "\n",
       "\n",
       "/* Toggleable style: style used for estimator/Pipeline/ColumnTransformer box that is\n",
       "clickable and can be expanded/collapsed.\n",
       "- Pipeline and ColumnTransformer use this feature and define the default style\n",
       "- Estimators will overwrite some part of the style using the `sk-estimator` class\n",
       "*/\n",
       "\n",
       "/* Pipeline and ColumnTransformer style (default) */\n",
       "\n",
       "#sk-container-id-1 div.sk-toggleable {\n",
       "  /* Default theme specific background. It is overwritten whether we have a\n",
       "  specific estimator or a Pipeline/ColumnTransformer */\n",
       "  background-color: var(--sklearn-color-background);\n",
       "}\n",
       "\n",
       "/* Toggleable label */\n",
       "#sk-container-id-1 label.sk-toggleable__label {\n",
       "  cursor: pointer;\n",
       "  display: block;\n",
       "  width: 100%;\n",
       "  margin-bottom: 0;\n",
       "  padding: 0.5em;\n",
       "  box-sizing: border-box;\n",
       "  text-align: center;\n",
       "}\n",
       "\n",
       "#sk-container-id-1 label.sk-toggleable__label-arrow:before {\n",
       "  /* Arrow on the left of the label */\n",
       "  content: \"▸\";\n",
       "  float: left;\n",
       "  margin-right: 0.25em;\n",
       "  color: var(--sklearn-color-icon);\n",
       "}\n",
       "\n",
       "#sk-container-id-1 label.sk-toggleable__label-arrow:hover:before {\n",
       "  color: var(--sklearn-color-text);\n",
       "}\n",
       "\n",
       "/* Toggleable content - dropdown */\n",
       "\n",
       "#sk-container-id-1 div.sk-toggleable__content {\n",
       "  max-height: 0;\n",
       "  max-width: 0;\n",
       "  overflow: hidden;\n",
       "  text-align: left;\n",
       "  /* unfitted */\n",
       "  background-color: var(--sklearn-color-unfitted-level-0);\n",
       "}\n",
       "\n",
       "#sk-container-id-1 div.sk-toggleable__content.fitted {\n",
       "  /* fitted */\n",
       "  background-color: var(--sklearn-color-fitted-level-0);\n",
       "}\n",
       "\n",
       "#sk-container-id-1 div.sk-toggleable__content pre {\n",
       "  margin: 0.2em;\n",
       "  border-radius: 0.25em;\n",
       "  color: var(--sklearn-color-text);\n",
       "  /* unfitted */\n",
       "  background-color: var(--sklearn-color-unfitted-level-0);\n",
       "}\n",
       "\n",
       "#sk-container-id-1 div.sk-toggleable__content.fitted pre {\n",
       "  /* unfitted */\n",
       "  background-color: var(--sklearn-color-fitted-level-0);\n",
       "}\n",
       "\n",
       "#sk-container-id-1 input.sk-toggleable__control:checked~div.sk-toggleable__content {\n",
       "  /* Expand drop-down */\n",
       "  max-height: 200px;\n",
       "  max-width: 100%;\n",
       "  overflow: auto;\n",
       "}\n",
       "\n",
       "#sk-container-id-1 input.sk-toggleable__control:checked~label.sk-toggleable__label-arrow:before {\n",
       "  content: \"▾\";\n",
       "}\n",
       "\n",
       "/* Pipeline/ColumnTransformer-specific style */\n",
       "\n",
       "#sk-container-id-1 div.sk-label input.sk-toggleable__control:checked~label.sk-toggleable__label {\n",
       "  color: var(--sklearn-color-text);\n",
       "  background-color: var(--sklearn-color-unfitted-level-2);\n",
       "}\n",
       "\n",
       "#sk-container-id-1 div.sk-label.fitted input.sk-toggleable__control:checked~label.sk-toggleable__label {\n",
       "  background-color: var(--sklearn-color-fitted-level-2);\n",
       "}\n",
       "\n",
       "/* Estimator-specific style */\n",
       "\n",
       "/* Colorize estimator box */\n",
       "#sk-container-id-1 div.sk-estimator input.sk-toggleable__control:checked~label.sk-toggleable__label {\n",
       "  /* unfitted */\n",
       "  background-color: var(--sklearn-color-unfitted-level-2);\n",
       "}\n",
       "\n",
       "#sk-container-id-1 div.sk-estimator.fitted input.sk-toggleable__control:checked~label.sk-toggleable__label {\n",
       "  /* fitted */\n",
       "  background-color: var(--sklearn-color-fitted-level-2);\n",
       "}\n",
       "\n",
       "#sk-container-id-1 div.sk-label label.sk-toggleable__label,\n",
       "#sk-container-id-1 div.sk-label label {\n",
       "  /* The background is the default theme color */\n",
       "  color: var(--sklearn-color-text-on-default-background);\n",
       "}\n",
       "\n",
       "/* On hover, darken the color of the background */\n",
       "#sk-container-id-1 div.sk-label:hover label.sk-toggleable__label {\n",
       "  color: var(--sklearn-color-text);\n",
       "  background-color: var(--sklearn-color-unfitted-level-2);\n",
       "}\n",
       "\n",
       "/* Label box, darken color on hover, fitted */\n",
       "#sk-container-id-1 div.sk-label.fitted:hover label.sk-toggleable__label.fitted {\n",
       "  color: var(--sklearn-color-text);\n",
       "  background-color: var(--sklearn-color-fitted-level-2);\n",
       "}\n",
       "\n",
       "/* Estimator label */\n",
       "\n",
       "#sk-container-id-1 div.sk-label label {\n",
       "  font-family: monospace;\n",
       "  font-weight: bold;\n",
       "  display: inline-block;\n",
       "  line-height: 1.2em;\n",
       "}\n",
       "\n",
       "#sk-container-id-1 div.sk-label-container {\n",
       "  text-align: center;\n",
       "}\n",
       "\n",
       "/* Estimator-specific */\n",
       "#sk-container-id-1 div.sk-estimator {\n",
       "  font-family: monospace;\n",
       "  border: 1px dotted var(--sklearn-color-border-box);\n",
       "  border-radius: 0.25em;\n",
       "  box-sizing: border-box;\n",
       "  margin-bottom: 0.5em;\n",
       "  /* unfitted */\n",
       "  background-color: var(--sklearn-color-unfitted-level-0);\n",
       "}\n",
       "\n",
       "#sk-container-id-1 div.sk-estimator.fitted {\n",
       "  /* fitted */\n",
       "  background-color: var(--sklearn-color-fitted-level-0);\n",
       "}\n",
       "\n",
       "/* on hover */\n",
       "#sk-container-id-1 div.sk-estimator:hover {\n",
       "  /* unfitted */\n",
       "  background-color: var(--sklearn-color-unfitted-level-2);\n",
       "}\n",
       "\n",
       "#sk-container-id-1 div.sk-estimator.fitted:hover {\n",
       "  /* fitted */\n",
       "  background-color: var(--sklearn-color-fitted-level-2);\n",
       "}\n",
       "\n",
       "/* Specification for estimator info (e.g. \"i\" and \"?\") */\n",
       "\n",
       "/* Common style for \"i\" and \"?\" */\n",
       "\n",
       ".sk-estimator-doc-link,\n",
       "a:link.sk-estimator-doc-link,\n",
       "a:visited.sk-estimator-doc-link {\n",
       "  float: right;\n",
       "  font-size: smaller;\n",
       "  line-height: 1em;\n",
       "  font-family: monospace;\n",
       "  background-color: var(--sklearn-color-background);\n",
       "  border-radius: 1em;\n",
       "  height: 1em;\n",
       "  width: 1em;\n",
       "  text-decoration: none !important;\n",
       "  margin-left: 1ex;\n",
       "  /* unfitted */\n",
       "  border: var(--sklearn-color-unfitted-level-1) 1pt solid;\n",
       "  color: var(--sklearn-color-unfitted-level-1);\n",
       "}\n",
       "\n",
       ".sk-estimator-doc-link.fitted,\n",
       "a:link.sk-estimator-doc-link.fitted,\n",
       "a:visited.sk-estimator-doc-link.fitted {\n",
       "  /* fitted */\n",
       "  border: var(--sklearn-color-fitted-level-1) 1pt solid;\n",
       "  color: var(--sklearn-color-fitted-level-1);\n",
       "}\n",
       "\n",
       "/* On hover */\n",
       "div.sk-estimator:hover .sk-estimator-doc-link:hover,\n",
       ".sk-estimator-doc-link:hover,\n",
       "div.sk-label-container:hover .sk-estimator-doc-link:hover,\n",
       ".sk-estimator-doc-link:hover {\n",
       "  /* unfitted */\n",
       "  background-color: var(--sklearn-color-unfitted-level-3);\n",
       "  color: var(--sklearn-color-background);\n",
       "  text-decoration: none;\n",
       "}\n",
       "\n",
       "div.sk-estimator.fitted:hover .sk-estimator-doc-link.fitted:hover,\n",
       ".sk-estimator-doc-link.fitted:hover,\n",
       "div.sk-label-container:hover .sk-estimator-doc-link.fitted:hover,\n",
       ".sk-estimator-doc-link.fitted:hover {\n",
       "  /* fitted */\n",
       "  background-color: var(--sklearn-color-fitted-level-3);\n",
       "  color: var(--sklearn-color-background);\n",
       "  text-decoration: none;\n",
       "}\n",
       "\n",
       "/* Span, style for the box shown on hovering the info icon */\n",
       ".sk-estimator-doc-link span {\n",
       "  display: none;\n",
       "  z-index: 9999;\n",
       "  position: relative;\n",
       "  font-weight: normal;\n",
       "  right: .2ex;\n",
       "  padding: .5ex;\n",
       "  margin: .5ex;\n",
       "  width: min-content;\n",
       "  min-width: 20ex;\n",
       "  max-width: 50ex;\n",
       "  color: var(--sklearn-color-text);\n",
       "  box-shadow: 2pt 2pt 4pt #999;\n",
       "  /* unfitted */\n",
       "  background: var(--sklearn-color-unfitted-level-0);\n",
       "  border: .5pt solid var(--sklearn-color-unfitted-level-3);\n",
       "}\n",
       "\n",
       ".sk-estimator-doc-link.fitted span {\n",
       "  /* fitted */\n",
       "  background: var(--sklearn-color-fitted-level-0);\n",
       "  border: var(--sklearn-color-fitted-level-3);\n",
       "}\n",
       "\n",
       ".sk-estimator-doc-link:hover span {\n",
       "  display: block;\n",
       "}\n",
       "\n",
       "/* \"?\"-specific style due to the `<a>` HTML tag */\n",
       "\n",
       "#sk-container-id-1 a.estimator_doc_link {\n",
       "  float: right;\n",
       "  font-size: 1rem;\n",
       "  line-height: 1em;\n",
       "  font-family: monospace;\n",
       "  background-color: var(--sklearn-color-background);\n",
       "  border-radius: 1rem;\n",
       "  height: 1rem;\n",
       "  width: 1rem;\n",
       "  text-decoration: none;\n",
       "  /* unfitted */\n",
       "  color: var(--sklearn-color-unfitted-level-1);\n",
       "  border: var(--sklearn-color-unfitted-level-1) 1pt solid;\n",
       "}\n",
       "\n",
       "#sk-container-id-1 a.estimator_doc_link.fitted {\n",
       "  /* fitted */\n",
       "  border: var(--sklearn-color-fitted-level-1) 1pt solid;\n",
       "  color: var(--sklearn-color-fitted-level-1);\n",
       "}\n",
       "\n",
       "/* On hover */\n",
       "#sk-container-id-1 a.estimator_doc_link:hover {\n",
       "  /* unfitted */\n",
       "  background-color: var(--sklearn-color-unfitted-level-3);\n",
       "  color: var(--sklearn-color-background);\n",
       "  text-decoration: none;\n",
       "}\n",
       "\n",
       "#sk-container-id-1 a.estimator_doc_link.fitted:hover {\n",
       "  /* fitted */\n",
       "  background-color: var(--sklearn-color-fitted-level-3);\n",
       "}\n",
       "</style><div id=\"sk-container-id-1\" class=\"sk-top-container\"><div class=\"sk-text-repr-fallback\"><pre>LinearRegression()</pre><b>In a Jupyter environment, please rerun this cell to show the HTML representation or trust the notebook. <br />On GitHub, the HTML representation is unable to render, please try loading this page with nbviewer.org.</b></div><div class=\"sk-container\" hidden><div class=\"sk-item\"><div class=\"sk-estimator fitted sk-toggleable\"><input class=\"sk-toggleable__control sk-hidden--visually\" id=\"sk-estimator-id-1\" type=\"checkbox\" checked><label for=\"sk-estimator-id-1\" class=\"sk-toggleable__label fitted sk-toggleable__label-arrow fitted\">&nbsp;&nbsp;LinearRegression<a class=\"sk-estimator-doc-link fitted\" rel=\"noreferrer\" target=\"_blank\" href=\"https://scikit-learn.org/1.5/modules/generated/sklearn.linear_model.LinearRegression.html\">?<span>Documentation for LinearRegression</span></a><span class=\"sk-estimator-doc-link fitted\">i<span>Fitted</span></span></label><div class=\"sk-toggleable__content fitted\"><pre>LinearRegression()</pre></div> </div></div></div></div>"
      ],
      "text/plain": [
       "LinearRegression()"
      ]
     },
     "execution_count": 39,
     "metadata": {},
     "output_type": "execute_result"
    }
   ],
   "source": [
    "# fit the regression object into the training set\n",
    "regression.fit(X_train, y_train)"
   ]
  },
  {
   "cell_type": "code",
   "execution_count": 40,
   "id": "844c80d6-4219-40a4-8fbb-2eb8578d050b",
   "metadata": {},
   "outputs": [],
   "source": [
    "# predict the values of y using X\n",
    "y_predicted = regression.predict(X_test)"
   ]
  },
  {
   "cell_type": "code",
   "execution_count": 41,
   "id": "b4012ac3-fe6e-4910-997e-81ac6d6e0a25",
   "metadata": {},
   "outputs": [
    {
     "data": {
      "image/png": "[encoded data removed]",
      "text/plain": [
       "<Figure size 640x480 with 1 Axes>"
      ]
     },
     "metadata": {},
     "output_type": "display_data"
    }
   ],
   "source": [
    "# plot the regression line form the model on the test set\n",
    "plot_test = plt\n",
    "plot_test.scatter(X_test, y_test, color='gray', s=15)\n",
    "plot_test.plot(X_test, y_predicted, color='red', linewidth=3)\n",
    "plot_test.title('Unique Products Sold vs Total Revenue (Test Set)')\n",
    "plot_test.xlabel('Unique Products Sold')\n",
    "plot_test.ylabel('Total Revenue')\n",
    "plot_test.show()"
   ]
  },
  {
   "cell_type": "markdown",
   "id": "be5b4fc4-60f5-418b-8abb-f15f60d4cd94",
   "metadata": {},
   "source": [
    "**Insights:** There is a moderately steep slope indicating that as the number of unique products sold increase, revenue does generally increase. However, points do not cluster around the trend line but rather have a wide distribution outside the trend line which indicates that this is not a consistent trend. Instead there is a wide variability between number of unique products and translation into sales. Some sellers make more revenue with limited unique products sold, while others sell alot of variety but have much lower total revenue. "
   ]
  },
  {
   "cell_type": "code",
   "execution_count": 43,
   "id": "3bc3a1f4-38e9-4050-8ed5-fc3730754cb3",
   "metadata": {},
   "outputs": [
    {
     "name": "stdout",
     "output_type": "stream",
     "text": [
      "Slope: [[0.65618354]]\n",
      "Mean squared error:  0.579672996519435\n",
      "R2 score:  0.4250064227250503\n"
     ]
    }
   ],
   "source": [
    "# model summeray statistics\n",
    "rmse = mean_squared_error(y_test, y_predicted) #mean squared error\n",
    "r2 = r2_score(y_test, y_predicted) #R2 score\n",
    "\n",
    "print('Slope:' , regression.coef_)\n",
    "print('Mean squared error: ', rmse)\n",
    "print('R2 score: ', r2)"
   ]
  },
  {
   "cell_type": "markdown",
   "id": "52e9138e-4d4c-4cdb-bf49-b94339b08e65",
   "metadata": {},
   "source": [
    "**Model Accuracy:** With a mean squared error of 0.58, model accuracy is low meaning predication wouldn't be dependable. This relationship would need a different model type than linear regression for accurate predictions. The R2 score, 0.43, also indicates a poor fit."
   ]
  },
  {
   "cell_type": "markdown",
   "id": "6b1397c5-f017-485a-bd7a-a5a69ee2da82",
   "metadata": {},
   "source": [
    "*The table below emphasizes this point by illustrating the disparity between actual and predicted values.*"
   ]
  },
  {
   "cell_type": "code",
   "execution_count": 46,
   "id": "c1a82ce1-0e32-471a-a4e8-ff38b1864f5e",
   "metadata": {},
   "outputs": [
    {
     "data": {
      "text/html": [
       "<div>\n",
       "<style scoped>\n",
       "    .dataframe tbody tr th:only-of-type {\n",
       "        vertical-align: middle;\n",
       "    }\n",
       "\n",
       "    .dataframe tbody tr th {\n",
       "        vertical-align: top;\n",
       "    }\n",
       "\n",
       "    .dataframe thead th {\n",
       "        text-align: right;\n",
       "    }\n",
       "</style>\n",
       "<table border=\"1\" class=\"dataframe\">\n",
       "  <thead>\n",
       "    <tr style=\"text-align: right;\">\n",
       "      <th></th>\n",
       "      <th>Actual</th>\n",
       "      <th>Predicted</th>\n",
       "    </tr>\n",
       "  </thead>\n",
       "  <tbody>\n",
       "    <tr>\n",
       "      <th>0</th>\n",
       "      <td>3.442905</td>\n",
       "      <td>-0.378528</td>\n",
       "    </tr>\n",
       "    <tr>\n",
       "      <th>1</th>\n",
       "      <td>1.841271</td>\n",
       "      <td>0.602795</td>\n",
       "    </tr>\n",
       "    <tr>\n",
       "      <th>2</th>\n",
       "      <td>-0.696442</td>\n",
       "      <td>-0.518717</td>\n",
       "    </tr>\n",
       "    <tr>\n",
       "      <th>3</th>\n",
       "      <td>2.951522</td>\n",
       "      <td>2.549865</td>\n",
       "    </tr>\n",
       "    <tr>\n",
       "      <th>4</th>\n",
       "      <td>-0.700045</td>\n",
       "      <td>-0.518717</td>\n",
       "    </tr>\n",
       "    <tr>\n",
       "      <th>5</th>\n",
       "      <td>-0.701412</td>\n",
       "      <td>-0.456411</td>\n",
       "    </tr>\n",
       "    <tr>\n",
       "      <th>6</th>\n",
       "      <td>0.227126</td>\n",
       "      <td>-0.417470</td>\n",
       "    </tr>\n",
       "    <tr>\n",
       "      <th>7</th>\n",
       "      <td>-0.156446</td>\n",
       "      <td>0.010886</td>\n",
       "    </tr>\n",
       "    <tr>\n",
       "      <th>8</th>\n",
       "      <td>-0.670619</td>\n",
       "      <td>-0.417470</td>\n",
       "    </tr>\n",
       "    <tr>\n",
       "      <th>9</th>\n",
       "      <td>-0.730222</td>\n",
       "      <td>-0.542082</td>\n",
       "    </tr>\n",
       "    <tr>\n",
       "      <th>10</th>\n",
       "      <td>0.047040</td>\n",
       "      <td>-0.230551</td>\n",
       "    </tr>\n",
       "    <tr>\n",
       "      <th>11</th>\n",
       "      <td>0.562467</td>\n",
       "      <td>-0.464199</td>\n",
       "    </tr>\n",
       "    <tr>\n",
       "      <th>12</th>\n",
       "      <td>-0.637853</td>\n",
       "      <td>-0.456411</td>\n",
       "    </tr>\n",
       "    <tr>\n",
       "      <th>13</th>\n",
       "      <td>1.327219</td>\n",
       "      <td>-0.183821</td>\n",
       "    </tr>\n",
       "    <tr>\n",
       "      <th>14</th>\n",
       "      <td>-0.724518</td>\n",
       "      <td>-0.503141</td>\n",
       "    </tr>\n",
       "    <tr>\n",
       "      <th>15</th>\n",
       "      <td>-0.539025</td>\n",
       "      <td>-0.020267</td>\n",
       "    </tr>\n",
       "    <tr>\n",
       "      <th>16</th>\n",
       "      <td>-0.103033</td>\n",
       "      <td>-0.214974</td>\n",
       "    </tr>\n",
       "    <tr>\n",
       "      <th>17</th>\n",
       "      <td>-0.630320</td>\n",
       "      <td>-0.285069</td>\n",
       "    </tr>\n",
       "    <tr>\n",
       "      <th>18</th>\n",
       "      <td>-0.649559</td>\n",
       "      <td>-0.074785</td>\n",
       "    </tr>\n",
       "    <tr>\n",
       "      <th>19</th>\n",
       "      <td>-0.439241</td>\n",
       "      <td>-0.238339</td>\n",
       "    </tr>\n",
       "    <tr>\n",
       "      <th>20</th>\n",
       "      <td>-0.553094</td>\n",
       "      <td>-0.028056</td>\n",
       "    </tr>\n",
       "    <tr>\n",
       "      <th>21</th>\n",
       "      <td>-0.547857</td>\n",
       "      <td>-0.487564</td>\n",
       "    </tr>\n",
       "    <tr>\n",
       "      <th>22</th>\n",
       "      <td>-0.451639</td>\n",
       "      <td>-0.129303</td>\n",
       "    </tr>\n",
       "    <tr>\n",
       "      <th>23</th>\n",
       "      <td>0.416702</td>\n",
       "      <td>-0.012479</td>\n",
       "    </tr>\n",
       "    <tr>\n",
       "      <th>24</th>\n",
       "      <td>-0.143286</td>\n",
       "      <td>0.587219</td>\n",
       "    </tr>\n",
       "    <tr>\n",
       "      <th>25</th>\n",
       "      <td>-0.536879</td>\n",
       "      <td>-0.526506</td>\n",
       "    </tr>\n",
       "    <tr>\n",
       "      <th>26</th>\n",
       "      <td>1.160056</td>\n",
       "      <td>-0.269492</td>\n",
       "    </tr>\n",
       "    <tr>\n",
       "      <th>27</th>\n",
       "      <td>-0.477989</td>\n",
       "      <td>-0.316222</td>\n",
       "    </tr>\n",
       "    <tr>\n",
       "      <th>28</th>\n",
       "      <td>0.450886</td>\n",
       "      <td>1.950168</td>\n",
       "    </tr>\n",
       "    <tr>\n",
       "      <th>29</th>\n",
       "      <td>0.199072</td>\n",
       "      <td>0.867597</td>\n",
       "    </tr>\n",
       "  </tbody>\n",
       "</table>\n",
       "</div>"
      ],
      "text/plain": [
       "      Actual  Predicted\n",
       "0   3.442905  -0.378528\n",
       "1   1.841271   0.602795\n",
       "2  -0.696442  -0.518717\n",
       "3   2.951522   2.549865\n",
       "4  -0.700045  -0.518717\n",
       "5  -0.701412  -0.456411\n",
       "6   0.227126  -0.417470\n",
       "7  -0.156446   0.010886\n",
       "8  -0.670619  -0.417470\n",
       "9  -0.730222  -0.542082\n",
       "10  0.047040  -0.230551\n",
       "11  0.562467  -0.464199\n",
       "12 -0.637853  -0.456411\n",
       "13  1.327219  -0.183821\n",
       "14 -0.724518  -0.503141\n",
       "15 -0.539025  -0.020267\n",
       "16 -0.103033  -0.214974\n",
       "17 -0.630320  -0.285069\n",
       "18 -0.649559  -0.074785\n",
       "19 -0.439241  -0.238339\n",
       "20 -0.553094  -0.028056\n",
       "21 -0.547857  -0.487564\n",
       "22 -0.451639  -0.129303\n",
       "23  0.416702  -0.012479\n",
       "24 -0.143286   0.587219\n",
       "25 -0.536879  -0.526506\n",
       "26  1.160056  -0.269492\n",
       "27 -0.477989  -0.316222\n",
       "28  0.450886   1.950168\n",
       "29  0.199072   0.867597"
      ]
     },
     "execution_count": 46,
     "metadata": {},
     "output_type": "execute_result"
    }
   ],
   "source": [
    "# datatframe comparing the actual and predicted values of y\n",
    "data = pd.DataFrame({'Actual':y_test.flatten(), 'Predicted':y_predicted.flatten()})\n",
    "data.head(30)"
   ]
  },
  {
   "cell_type": "markdown",
   "id": "ae3fd5cf-d829-4b96-91f7-a00f61c2bb20",
   "metadata": {},
   "source": [
    "**Compare how the regression fits the training set**"
   ]
  },
  {
   "cell_type": "code",
   "execution_count": 48,
   "id": "510ea2a3-aff2-4cef-b59f-33cfa296333d",
   "metadata": {},
   "outputs": [],
   "source": [
    "# predict X_train\n",
    "y_predicted_train = regression.predict(X_train)"
   ]
  },
  {
   "cell_type": "code",
   "execution_count": 49,
   "id": "44ec5fdc-4da9-4cbe-9d60-b64c62a21aad",
   "metadata": {},
   "outputs": [
    {
     "name": "stdout",
     "output_type": "stream",
     "text": [
      "Slope: [[0.65618354]]\n",
      "Mean squared error:  0.5635461545835944\n",
      "R2 score:  0.43447906631828925\n"
     ]
    }
   ],
   "source": [
    "rmse = mean_squared_error(y_train, y_predicted_train)\n",
    "r2 = r2_score(y_train, y_predicted_train)\n",
    "\n",
    "print('Slope:' , regression.coef_)\n",
    "print('Mean squared error: ', rmse)\n",
    "print('R2 score: ', r2)"
   ]
  },
  {
   "cell_type": "markdown",
   "id": "0004c951-e06f-4db8-9d16-ebb792decade",
   "metadata": {},
   "source": [
    "**Insight:** Fitting the model to the training shows minimal to negligible increases in accuracy, shown by the 0.01 increase in R2 score (a rise from 0.425 to 0.434). This confirms the model inaccuracy. "
   ]
  },
  {
   "cell_type": "code",
   "execution_count": 51,
   "id": "8e24e371-6d18-476f-86d9-fd84aa5a50f4",
   "metadata": {},
   "outputs": [
    {
     "data": {
      "image/png": "[encoded data removed]",
      "text/plain": [
       "<Figure size 640x480 with 1 Axes>"
      ]
     },
     "metadata": {},
     "output_type": "display_data"
    }
   ],
   "source": [
    "# plot the training set results\n",
    "plot_test = plt\n",
    "plot_test.scatter(X_train, y_train, color='green', s=15)\n",
    "plot_test.plot(X_train, y_predicted_train, color='red', linewidth=2)\n",
    "plot_test.title('Number of Unique Products Sold vs Total Revenue (Train Set)')\n",
    "plot_test.xlabel('Number of Unique Products')\n",
    "plot_test.ylabel('Total Revenue')\n",
    "plot_test.show()"
   ]
  },
  {
   "cell_type": "markdown",
   "id": "1a007ab3-5306-44e4-9fd5-91711be4f5a7",
   "metadata": {},
   "source": [
    "**Conclusion:** The hypothesis \"Olist sellers who are selling a variety of products will have higher total revenue\" is only partially true. There is a lot of variance in the data that can't be explained by a linear relationship between the variables present, indicated other factors come into play when determining seller revenue performance."
   ]
  },
  {
   "cell_type": "code",
   "execution_count": null,
   "id": "ddd3e3fc-d35d-4319-bd80-fc6dcf4498b4",
   "metadata": {},
   "outputs": [],
   "source": []
  }
 ],
 "metadata": {
  "kernelspec": {
   "display_name": "Python 3 (ipykernel)",
   "language": "python",
   "name": "python3"
  },
  "language_info": {
   "codemirror_mode": {
    "name": "ipython",
    "version": 3
   },
   "file_extension": ".py",
   "mimetype": "text/x-python",
   "name": "python",
   "nbconvert_exporter": "python",
   "pygments_lexer": "ipython3",
   "version": "3.12.3"
  }
 },
 "nbformat": 4,
 "nbformat_minor": 5
}
